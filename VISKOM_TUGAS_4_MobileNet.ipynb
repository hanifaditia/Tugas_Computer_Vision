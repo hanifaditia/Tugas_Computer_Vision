{
  "nbformat": 4,
  "nbformat_minor": 0,
  "metadata": {
    "colab": {
      "provenance": [],
      "gpuType": "T4"
    },
    "kernelspec": {
      "name": "python3",
      "display_name": "Python 3"
    },
    "language_info": {
      "name": "python"
    },
    "accelerator": "GPU"
  },
  "cells": [
    {
      "cell_type": "code",
      "source": [
        "import tensorflow as tf\n",
        "from tensorflow.keras.preprocessing.image import ImageDataGenerator\n",
        "from sklearn.model_selection import train_test_split\n",
        "from tensorflow.keras import layers, models\n",
        "from tensorflow.keras.applications import EfficientNetB0\n",
        "import numpy as np\n",
        "from sklearn.metrics import precision_score, recall_score, f1_score, accuracy_score, confusion_matrix, ConfusionMatrixDisplay\n",
        "import matplotlib.pyplot as plt\n",
        "from skimage.restoration import denoise_tv_chambolle\n",
        "from scipy.ndimage import median_filter\n",
        "import cv2\n",
        "from tensorflow.keras.applications import EfficientNetB0, DenseNet121, MobileNetV3Small\n",
        "from tensorflow.keras import layers, Model\n",
        "from tensorflow.keras.callbacks import EarlyStopping"
      ],
      "metadata": {
        "id": "6Wr8i7dHq7v5"
      },
      "execution_count": null,
      "outputs": []
    },
    {
      "cell_type": "code",
      "execution_count": null,
      "metadata": {
        "id": "sT2FGK2bqyRU",
        "colab": {
          "base_uri": "https://localhost:8080/"
        },
        "outputId": "113cd339-c9ec-418c-9fe8-1c5ba9712557"
      },
      "outputs": [
        {
          "output_type": "stream",
          "name": "stdout",
          "text": [
            "/usr/local/lib/python3.10/dist-packages/gdown/__main__.py:140: FutureWarning: Option `--id` was deprecated in version 4.3.1 and will be removed in 5.0. You don't need to pass it anymore to use a file ID.\n",
            "  warnings.warn(\n",
            "Downloading...\n",
            "From (original): https://drive.google.com/uc?id=12DWmjL6LNLsNye-3o-il-Hw4GDgu6yOh\n",
            "From (redirected): https://drive.google.com/uc?id=12DWmjL6LNLsNye-3o-il-Hw4GDgu6yOh&confirm=t&uuid=5bf93a54-787f-4f78-8e56-efa41a8e6c0e\n",
            "To: /content/Dataset5000.zip\n",
            "100% 590M/590M [00:24<00:00, 23.8MB/s]\n"
          ]
        }
      ],
      "source": [
        "!gdown --id 12DWmjL6LNLsNye-3o-il-Hw4GDgu6yOh\n",
        "!unzip -q /content/Dataset5000.zip -d /content/dataset"
      ]
    },
    {
      "cell_type": "code",
      "source": [
        "import os\n",
        "import shutil\n",
        "import tensorflow as tf\n",
        "\n",
        "# Define your dataset path\n",
        "dataset_path = \"/content/dataset/Dataset5000\"\n",
        "output_path = \"/content/dataset/selected_images\"\n",
        "\n",
        "# Create output directories\n",
        "if not os.path.exists(output_path):\n",
        "    os.makedirs(output_path)\n",
        "\n",
        "# Load the dataset\n",
        "dataset = tf.keras.preprocessing.image_dataset_from_directory(\n",
        "    dataset_path,\n",
        "    image_size=(224, 224),\n",
        "    batch_size=64,\n",
        "    label_mode='int',\n",
        "    shuffle=True,\n",
        "    seed=42\n",
        ")\n",
        "\n",
        "# Get class names\n",
        "class_names = dataset.class_names\n",
        "\n",
        "# Process each class\n",
        "for class_index, class_name in enumerate(class_names):\n",
        "    class_folder = os.path.join(output_path, class_name)\n",
        "    if not os.path.exists(class_folder):\n",
        "        os.makedirs(class_folder)\n",
        "\n",
        "    # Track the number of images copied\n",
        "    count = 0\n",
        "\n",
        "    for images, labels in dataset:\n",
        "        for i in range(images.shape[0]):\n",
        "            if count < 100 and labels[i].numpy() == class_index:\n",
        "                # Save the image\n",
        "                img = tf.keras.preprocessing.image.array_to_img(images[i])\n",
        "                img.save(os.path.join(class_folder, f\"{class_name}_{count}.jpg\"))\n",
        "                count += 1\n",
        "\n",
        "            if count >= 100:\n",
        "                break\n",
        "\n",
        "        if count >= 100:\n",
        "            break\n",
        "\n",
        "print(\"Images have been saved.\")\n"
      ],
      "metadata": {
        "id": "7CTtSXOwq9u1",
        "colab": {
          "base_uri": "https://localhost:8080/"
        },
        "outputId": "c962ccad-5150-4ca0-cea0-7371edb9664c"
      },
      "execution_count": null,
      "outputs": [
        {
          "output_type": "stream",
          "name": "stdout",
          "text": [
            "Found 5968 files belonging to 10 classes.\n",
            "Images have been saved.\n"
          ]
        }
      ]
    },
    {
      "cell_type": "code",
      "source": [
        "dataset1000 = tf.keras.preprocessing.image_dataset_from_directory(\n",
        "    \"/content/dataset/selected_images\",\n",
        "    image_size=(224, 224),\n",
        "    batch_size=32,\n",
        "    label_mode='int',\n",
        "    shuffle=True,\n",
        "    seed=42\n",
        ")\n"
      ],
      "metadata": {
        "id": "YoMKnlQEvT9w",
        "colab": {
          "base_uri": "https://localhost:8080/"
        },
        "outputId": "5439b3bd-35e9-4d71-aa53-f9d426d737b7"
      },
      "execution_count": null,
      "outputs": [
        {
          "output_type": "stream",
          "name": "stdout",
          "text": [
            "Found 1000 files belonging to 10 classes.\n"
          ]
        }
      ]
    },
    {
      "cell_type": "code",
      "source": [
        "\n",
        "num_batches = tf.data.experimental.cardinality(dataset1000).numpy()\n",
        "\n",
        "train_size = int(0.8 * num_batches)\n",
        "val_size = int(0.1 * num_batches)\n",
        "test_size = num_batches - train_size - val_size\n",
        "\n",
        "\n",
        "train_dataset = dataset1000.take(train_size)\n",
        "val_dataset = dataset1000.skip(train_size).take(val_size)\n",
        "test_dataset = dataset1000.skip(train_size + val_size)"
      ],
      "metadata": {
        "id": "7ZuExOg7uTTN"
      },
      "execution_count": null,
      "outputs": []
    },
    {
      "cell_type": "code",
      "source": [
        "\n",
        "class_counts = {}\n",
        "\n",
        "for images, labels in test_dataset:\n",
        "    for label in labels.numpy():\n",
        "        if label in class_counts:\n",
        "            class_counts[label] += 1\n",
        "        else:\n",
        "            class_counts[label] = 1\n",
        "\n",
        "\n",
        "class_counts = dict(sorted(class_counts.items()))\n",
        "\n",
        "\n",
        "for class_label, count in class_counts.items():\n",
        "    print(f'Class {class_label}: {count} samples')"
      ],
      "metadata": {
        "id": "u8dhoyZmvhQI",
        "colab": {
          "base_uri": "https://localhost:8080/"
        },
        "outputId": "b3e271db-e9d7-49b1-b9ca-33813653655b"
      },
      "execution_count": null,
      "outputs": [
        {
          "output_type": "stream",
          "name": "stdout",
          "text": [
            "Class 0: 6 samples\n",
            "Class 1: 10 samples\n",
            "Class 2: 13 samples\n",
            "Class 3: 6 samples\n",
            "Class 4: 14 samples\n",
            "Class 5: 8 samples\n",
            "Class 6: 11 samples\n",
            "Class 7: 11 samples\n",
            "Class 8: 14 samples\n",
            "Class 9: 11 samples\n"
          ]
        }
      ]
    },
    {
      "cell_type": "code",
      "source": [
        "import tensorflow as tf\n",
        "import os\n",
        "\n",
        "output_dir = \"output_data\"\n",
        "train_dir = os.path.join(output_dir, \"train\")\n",
        "val_dir = os.path.join(output_dir, \"val\")\n",
        "test_dir = os.path.join(output_dir, \"test\")\n",
        "\n",
        "\n",
        "os.makedirs(train_dir, exist_ok=True)\n",
        "os.makedirs(val_dir, exist_ok=True)\n",
        "os.makedirs(test_dir, exist_ok=True)\n",
        "\n",
        "def save_dataset(dataset, output_path):\n",
        "    class_counts = {}\n",
        "    for i, (images, labels) in enumerate(dataset):\n",
        "        for j in range(images.shape[0]):\n",
        "            label = labels[j].numpy()\n",
        "            label_dir = os.path.join(output_path, str(label))\n",
        "            os.makedirs(label_dir, exist_ok=True)\n",
        "\n",
        "            class_counts[label] = class_counts.get(label, 0) + 1\n",
        "\n",
        "            img_path = os.path.join(label_dir, f\"img_{i}_{j}.jpg\")\n",
        "            tf.keras.utils.save_img(img_path, images[j].numpy())\n",
        "    print(f\"Saved data to {output_path}\")\n",
        "    for class_label, count in class_counts.items():\n",
        "        print(f\"Class {class_label}: {count} samples\")\n",
        "\n",
        "\n",
        "save_dataset(train_dataset, train_dir)\n",
        "save_dataset(val_dataset, val_dir)\n",
        "save_dataset(test_dataset, test_dir)\n"
      ],
      "metadata": {
        "id": "8zAMs64axyyQ",
        "colab": {
          "base_uri": "https://localhost:8080/"
        },
        "outputId": "13693cfa-a843-4c1f-b0fd-53bcd871bc35"
      },
      "execution_count": null,
      "outputs": [
        {
          "output_type": "stream",
          "name": "stdout",
          "text": [
            "Saved data to output_data/train\n",
            "Class 0: 81 samples\n",
            "Class 4: 75 samples\n",
            "Class 7: 74 samples\n",
            "Class 9: 84 samples\n",
            "Class 5: 77 samples\n",
            "Class 8: 73 samples\n",
            "Class 2: 84 samples\n",
            "Class 3: 85 samples\n",
            "Class 1: 82 samples\n",
            "Class 6: 85 samples\n",
            "Saved data to output_data/val\n",
            "Class 9: 10 samples\n",
            "Class 8: 14 samples\n",
            "Class 6: 11 samples\n",
            "Class 0: 7 samples\n",
            "Class 2: 8 samples\n",
            "Class 4: 10 samples\n",
            "Class 3: 13 samples\n",
            "Class 1: 8 samples\n",
            "Class 5: 7 samples\n",
            "Class 7: 8 samples\n",
            "Saved data to output_data/test\n",
            "Class 9: 11 samples\n",
            "Class 6: 12 samples\n",
            "Class 2: 6 samples\n",
            "Class 0: 12 samples\n",
            "Class 8: 8 samples\n",
            "Class 3: 9 samples\n",
            "Class 7: 14 samples\n",
            "Class 1: 11 samples\n",
            "Class 5: 13 samples\n",
            "Class 4: 8 samples\n"
          ]
        }
      ]
    },
    {
      "cell_type": "markdown",
      "source": [
        "# PREPROCESSING"
      ],
      "metadata": {
        "id": "LL9RcNUUrNOT"
      }
    },
    {
      "cell_type": "code",
      "source": [
        "# LOAD AND RESIZE TO 224x224\n",
        "train_data = tf.keras.preprocessing.image_dataset_from_directory(\n",
        "    \"/content/output_data/train\",\n",
        "    image_size=(224, 224),\n",
        "    batch_size=32,\n",
        "    label_mode='int',\n",
        "    shuffle=True,\n",
        "    seed=42\n",
        ")\n",
        "\n",
        "val_data = tf.keras.preprocessing.image_dataset_from_directory(\n",
        "    \"/content/output_data/val\",\n",
        "    image_size=(224, 224),\n",
        "    batch_size=32,\n",
        "    label_mode='int',\n",
        "    shuffle=True,\n",
        "    seed=42\n",
        ")\n",
        "\n",
        "test_data = tf.keras.preprocessing.image_dataset_from_directory(\n",
        "    \"/content/output_data/test\",\n",
        "    image_size=(224, 224),\n",
        "    batch_size=32,\n",
        "    label_mode='int',\n",
        "    shuffle=False,\n",
        "    seed=42\n",
        ")"
      ],
      "metadata": {
        "id": "0fv8Mm4g6jYS",
        "colab": {
          "base_uri": "https://localhost:8080/"
        },
        "outputId": "e3909b38-6ba1-48ff-f05d-24a45c473434"
      },
      "execution_count": null,
      "outputs": [
        {
          "output_type": "stream",
          "name": "stdout",
          "text": [
            "Found 800 files belonging to 10 classes.\n",
            "Found 96 files belonging to 10 classes.\n",
            "Found 104 files belonging to 10 classes.\n"
          ]
        }
      ]
    },
    {
      "cell_type": "markdown",
      "source": [
        "# MODEL"
      ],
      "metadata": {
        "id": "3k6z7O5RrzfM"
      }
    },
    {
      "cell_type": "code",
      "source": [
        "base_model = MobileNetV3Small(\n",
        "    weights='imagenet',\n",
        "    include_top=False,\n",
        "    input_shape=(224, 224, 3) )\n",
        "base_model.trainable = False\n",
        "model = models.Sequential([\n",
        "    base_model,\n",
        "    layers.GlobalAveragePooling2D(),\n",
        "    layers.Dense(512, activation='relu'),\n",
        "    layers.Dropout(0.5),\n",
        "    layers.Dense(10, activation='softmax')\n",
        "])\n",
        "\n",
        "\n",
        "model.compile(\n",
        "    optimizer=tf.keras.optimizers.Adam(learning_rate=0.0001),\n",
        "    loss='sparse_categorical_crossentropy',\n",
        "    metrics=['accuracy']\n",
        ")"
      ],
      "metadata": {
        "id": "q0rwRr24r0CZ",
        "colab": {
          "base_uri": "https://localhost:8080/"
        },
        "outputId": "2ea412f1-0d7e-4900-e516-aa600778adaa"
      },
      "execution_count": null,
      "outputs": [
        {
          "output_type": "stream",
          "name": "stdout",
          "text": [
            "Downloading data from https://storage.googleapis.com/tensorflow/keras-applications/mobilenet_v3/weights_mobilenet_v3_small_224_1.0_float_no_top_v2.h5\n",
            "\u001b[1m4334752/4334752\u001b[0m \u001b[32m━━━━━━━━━━━━━━━━━━━━\u001b[0m\u001b[37m\u001b[0m \u001b[1m1s\u001b[0m 0us/step\n"
          ]
        }
      ]
    },
    {
      "cell_type": "code",
      "source": [
        "early_stopping = EarlyStopping(\n",
        "    monitor='val_loss',\n",
        "    patience=10,\n",
        "    restore_best_weights=True\n",
        ")\n",
        "\n",
        "history = model.fit(\n",
        "    train_data,\n",
        "    validation_data=val_data,\n",
        "    epochs=100,\n",
        "    batch_size=32,\n",
        "    callbacks=[early_stopping]\n",
        ")\n",
        "\n",
        "# Evaluate on test dataset\n",
        "test_loss, test_accuracy = model.evaluate(test_data)\n",
        "print(f\"Test Accuracy: {test_accuracy:.2f}\")"
      ],
      "metadata": {
        "id": "QvPbsbhZweko",
        "colab": {
          "base_uri": "https://localhost:8080/"
        },
        "outputId": "efbda910-fb36-4879-bca1-9795f56423e0"
      },
      "execution_count": null,
      "outputs": [
        {
          "output_type": "stream",
          "name": "stdout",
          "text": [
            "Epoch 1/100\n",
            "\u001b[1m25/25\u001b[0m \u001b[32m━━━━━━━━━━━━━━━━━━━━\u001b[0m\u001b[37m\u001b[0m \u001b[1m18s\u001b[0m 193ms/step - accuracy: 0.1168 - loss: 2.5864 - val_accuracy: 0.3125 - val_loss: 2.0899\n",
            "Epoch 2/100\n",
            "\u001b[1m25/25\u001b[0m \u001b[32m━━━━━━━━━━━━━━━━━━━━\u001b[0m\u001b[37m\u001b[0m \u001b[1m1s\u001b[0m 25ms/step - accuracy: 0.1833 - loss: 2.3188 - val_accuracy: 0.3542 - val_loss: 1.9401\n",
            "Epoch 3/100\n",
            "\u001b[1m25/25\u001b[0m \u001b[32m━━━━━━━━━━━━━━━━━━━━\u001b[0m\u001b[37m\u001b[0m \u001b[1m1s\u001b[0m 25ms/step - accuracy: 0.2121 - loss: 2.1609 - val_accuracy: 0.3958 - val_loss: 1.8323\n",
            "Epoch 4/100\n",
            "\u001b[1m25/25\u001b[0m \u001b[32m━━━━━━━━━━━━━━━━━━━━\u001b[0m\u001b[37m\u001b[0m \u001b[1m1s\u001b[0m 25ms/step - accuracy: 0.2906 - loss: 2.0801 - val_accuracy: 0.4479 - val_loss: 1.7615\n",
            "Epoch 5/100\n",
            "\u001b[1m25/25\u001b[0m \u001b[32m━━━━━━━━━━━━━━━━━━━━\u001b[0m\u001b[37m\u001b[0m \u001b[1m1s\u001b[0m 25ms/step - accuracy: 0.2925 - loss: 1.9364 - val_accuracy: 0.4375 - val_loss: 1.6958\n",
            "Epoch 6/100\n",
            "\u001b[1m25/25\u001b[0m \u001b[32m━━━━━━━━━━━━━━━━━━━━\u001b[0m\u001b[37m\u001b[0m \u001b[1m2s\u001b[0m 42ms/step - accuracy: 0.3421 - loss: 1.8762 - val_accuracy: 0.4479 - val_loss: 1.6615\n",
            "Epoch 7/100\n",
            "\u001b[1m25/25\u001b[0m \u001b[32m━━━━━━━━━━━━━━━━━━━━\u001b[0m\u001b[37m\u001b[0m \u001b[1m1s\u001b[0m 44ms/step - accuracy: 0.3556 - loss: 1.8204 - val_accuracy: 0.4479 - val_loss: 1.6079\n",
            "Epoch 8/100\n",
            "\u001b[1m25/25\u001b[0m \u001b[32m━━━━━━━━━━━━━━━━━━━━\u001b[0m\u001b[37m\u001b[0m \u001b[1m1s\u001b[0m 50ms/step - accuracy: 0.3467 - loss: 1.8014 - val_accuracy: 0.5208 - val_loss: 1.5777\n",
            "Epoch 9/100\n",
            "\u001b[1m25/25\u001b[0m \u001b[32m━━━━━━━━━━━━━━━━━━━━\u001b[0m\u001b[37m\u001b[0m \u001b[1m1s\u001b[0m 26ms/step - accuracy: 0.4131 - loss: 1.6918 - val_accuracy: 0.5104 - val_loss: 1.5487\n",
            "Epoch 10/100\n",
            "\u001b[1m25/25\u001b[0m \u001b[32m━━━━━━━━━━━━━━━━━━━━\u001b[0m\u001b[37m\u001b[0m \u001b[1m1s\u001b[0m 25ms/step - accuracy: 0.4488 - loss: 1.6614 - val_accuracy: 0.5312 - val_loss: 1.5184\n",
            "Epoch 11/100\n",
            "\u001b[1m25/25\u001b[0m \u001b[32m━━━━━━━━━━━━━━━━━━━━\u001b[0m\u001b[37m\u001b[0m \u001b[1m1s\u001b[0m 25ms/step - accuracy: 0.4247 - loss: 1.6519 - val_accuracy: 0.5417 - val_loss: 1.4860\n",
            "Epoch 12/100\n",
            "\u001b[1m25/25\u001b[0m \u001b[32m━━━━━━━━━━━━━━━━━━━━\u001b[0m\u001b[37m\u001b[0m \u001b[1m1s\u001b[0m 24ms/step - accuracy: 0.4598 - loss: 1.5674 - val_accuracy: 0.5521 - val_loss: 1.4578\n",
            "Epoch 13/100\n",
            "\u001b[1m25/25\u001b[0m \u001b[32m━━━━━━━━━━━━━━━━━━━━\u001b[0m\u001b[37m\u001b[0m \u001b[1m1s\u001b[0m 25ms/step - accuracy: 0.4594 - loss: 1.5838 - val_accuracy: 0.5417 - val_loss: 1.4494\n",
            "Epoch 14/100\n",
            "\u001b[1m25/25\u001b[0m \u001b[32m━━━━━━━━━━━━━━━━━━━━\u001b[0m\u001b[37m\u001b[0m \u001b[1m1s\u001b[0m 26ms/step - accuracy: 0.4966 - loss: 1.5147 - val_accuracy: 0.5938 - val_loss: 1.4099\n",
            "Epoch 15/100\n",
            "\u001b[1m25/25\u001b[0m \u001b[32m━━━━━━━━━━━━━━━━━━━━\u001b[0m\u001b[37m\u001b[0m \u001b[1m1s\u001b[0m 25ms/step - accuracy: 0.5141 - loss: 1.4808 - val_accuracy: 0.6042 - val_loss: 1.3850\n",
            "Epoch 16/100\n",
            "\u001b[1m25/25\u001b[0m \u001b[32m━━━━━━━━━━━━━━━━━━━━\u001b[0m\u001b[37m\u001b[0m \u001b[1m1s\u001b[0m 28ms/step - accuracy: 0.5094 - loss: 1.4410 - val_accuracy: 0.6042 - val_loss: 1.3813\n",
            "Epoch 17/100\n",
            "\u001b[1m25/25\u001b[0m \u001b[32m━━━━━━━━━━━━━━━━━━━━\u001b[0m\u001b[37m\u001b[0m \u001b[1m1s\u001b[0m 24ms/step - accuracy: 0.5268 - loss: 1.4287 - val_accuracy: 0.6562 - val_loss: 1.3664\n",
            "Epoch 18/100\n",
            "\u001b[1m25/25\u001b[0m \u001b[32m━━━━━━━━━━━━━━━━━━━━\u001b[0m\u001b[37m\u001b[0m \u001b[1m1s\u001b[0m 29ms/step - accuracy: 0.5128 - loss: 1.4119 - val_accuracy: 0.6354 - val_loss: 1.3454\n",
            "Epoch 19/100\n",
            "\u001b[1m25/25\u001b[0m \u001b[32m━━━━━━━━━━━━━━━━━━━━\u001b[0m\u001b[37m\u001b[0m \u001b[1m2s\u001b[0m 40ms/step - accuracy: 0.5277 - loss: 1.4112 - val_accuracy: 0.6250 - val_loss: 1.3273\n",
            "Epoch 20/100\n",
            "\u001b[1m25/25\u001b[0m \u001b[32m━━━━━━━━━━━━━━━━━━━━\u001b[0m\u001b[37m\u001b[0m \u001b[1m1s\u001b[0m 42ms/step - accuracy: 0.5762 - loss: 1.3565 - val_accuracy: 0.6562 - val_loss: 1.3159\n",
            "Epoch 21/100\n",
            "\u001b[1m25/25\u001b[0m \u001b[32m━━━━━━━━━━━━━━━━━━━━\u001b[0m\u001b[37m\u001b[0m \u001b[1m1s\u001b[0m 25ms/step - accuracy: 0.5763 - loss: 1.3140 - val_accuracy: 0.6458 - val_loss: 1.3067\n",
            "Epoch 22/100\n",
            "\u001b[1m25/25\u001b[0m \u001b[32m━━━━━━━━━━━━━━━━━━━━\u001b[0m\u001b[37m\u001b[0m \u001b[1m1s\u001b[0m 25ms/step - accuracy: 0.5622 - loss: 1.3496 - val_accuracy: 0.6771 - val_loss: 1.2879\n",
            "Epoch 23/100\n",
            "\u001b[1m25/25\u001b[0m \u001b[32m━━━━━━━━━━━━━━━━━━━━\u001b[0m\u001b[37m\u001b[0m \u001b[1m1s\u001b[0m 29ms/step - accuracy: 0.5824 - loss: 1.2567 - val_accuracy: 0.6875 - val_loss: 1.2783\n",
            "Epoch 24/100\n",
            "\u001b[1m25/25\u001b[0m \u001b[32m━━━━━━━━━━━━━━━━━━━━\u001b[0m\u001b[37m\u001b[0m \u001b[1m1s\u001b[0m 25ms/step - accuracy: 0.6024 - loss: 1.2635 - val_accuracy: 0.6771 - val_loss: 1.2540\n",
            "Epoch 25/100\n",
            "\u001b[1m25/25\u001b[0m \u001b[32m━━━━━━━━━━━━━━━━━━━━\u001b[0m\u001b[37m\u001b[0m \u001b[1m1s\u001b[0m 23ms/step - accuracy: 0.6134 - loss: 1.2412 - val_accuracy: 0.6979 - val_loss: 1.2548\n",
            "Epoch 26/100\n",
            "\u001b[1m25/25\u001b[0m \u001b[32m━━━━━━━━━━━━━━━━━━━━\u001b[0m\u001b[37m\u001b[0m \u001b[1m1s\u001b[0m 28ms/step - accuracy: 0.6084 - loss: 1.2273 - val_accuracy: 0.6979 - val_loss: 1.2435\n",
            "Epoch 27/100\n",
            "\u001b[1m25/25\u001b[0m \u001b[32m━━━━━━━━━━━━━━━━━━━━\u001b[0m\u001b[37m\u001b[0m \u001b[1m1s\u001b[0m 25ms/step - accuracy: 0.6097 - loss: 1.2232 - val_accuracy: 0.7083 - val_loss: 1.2258\n",
            "Epoch 28/100\n",
            "\u001b[1m25/25\u001b[0m \u001b[32m━━━━━━━━━━━━━━━━━━━━\u001b[0m\u001b[37m\u001b[0m \u001b[1m1s\u001b[0m 25ms/step - accuracy: 0.6408 - loss: 1.1652 - val_accuracy: 0.7083 - val_loss: 1.2105\n",
            "Epoch 29/100\n",
            "\u001b[1m25/25\u001b[0m \u001b[32m━━━━━━━━━━━━━━━━━━━━\u001b[0m\u001b[37m\u001b[0m \u001b[1m1s\u001b[0m 25ms/step - accuracy: 0.6244 - loss: 1.2023 - val_accuracy: 0.7083 - val_loss: 1.2062\n",
            "Epoch 30/100\n",
            "\u001b[1m25/25\u001b[0m \u001b[32m━━━━━━━━━━━━━━━━━━━━\u001b[0m\u001b[37m\u001b[0m \u001b[1m1s\u001b[0m 26ms/step - accuracy: 0.6474 - loss: 1.1486 - val_accuracy: 0.7083 - val_loss: 1.1920\n",
            "Epoch 31/100\n",
            "\u001b[1m25/25\u001b[0m \u001b[32m━━━━━━━━━━━━━━━━━━━━\u001b[0m\u001b[37m\u001b[0m \u001b[1m2s\u001b[0m 41ms/step - accuracy: 0.6708 - loss: 1.1330 - val_accuracy: 0.7188 - val_loss: 1.1829\n",
            "Epoch 32/100\n",
            "\u001b[1m25/25\u001b[0m \u001b[32m━━━━━━━━━━━━━━━━━━━━\u001b[0m\u001b[37m\u001b[0m \u001b[1m2s\u001b[0m 73ms/step - accuracy: 0.6726 - loss: 1.0717 - val_accuracy: 0.7083 - val_loss: 1.1788\n",
            "Epoch 33/100\n",
            "\u001b[1m25/25\u001b[0m \u001b[32m━━━━━━━━━━━━━━━━━━━━\u001b[0m\u001b[37m\u001b[0m \u001b[1m1s\u001b[0m 30ms/step - accuracy: 0.6593 - loss: 1.1005 - val_accuracy: 0.7188 - val_loss: 1.1672\n",
            "Epoch 34/100\n",
            "\u001b[1m25/25\u001b[0m \u001b[32m━━━━━━━━━━━━━━━━━━━━\u001b[0m\u001b[37m\u001b[0m \u001b[1m1s\u001b[0m 25ms/step - accuracy: 0.6580 - loss: 1.0712 - val_accuracy: 0.7188 - val_loss: 1.1590\n",
            "Epoch 35/100\n",
            "\u001b[1m25/25\u001b[0m \u001b[32m━━━━━━━━━━━━━━━━━━━━\u001b[0m\u001b[37m\u001b[0m \u001b[1m1s\u001b[0m 26ms/step - accuracy: 0.6949 - loss: 1.0094 - val_accuracy: 0.7292 - val_loss: 1.1486\n",
            "Epoch 36/100\n",
            "\u001b[1m25/25\u001b[0m \u001b[32m━━━━━━━━━━━━━━━━━━━━\u001b[0m\u001b[37m\u001b[0m \u001b[1m1s\u001b[0m 25ms/step - accuracy: 0.6892 - loss: 1.0336 - val_accuracy: 0.7188 - val_loss: 1.1327\n",
            "Epoch 37/100\n",
            "\u001b[1m25/25\u001b[0m \u001b[32m━━━━━━━━━━━━━━━━━━━━\u001b[0m\u001b[37m\u001b[0m \u001b[1m1s\u001b[0m 25ms/step - accuracy: 0.6730 - loss: 1.0399 - val_accuracy: 0.7188 - val_loss: 1.1380\n",
            "Epoch 38/100\n",
            "\u001b[1m25/25\u001b[0m \u001b[32m━━━━━━━━━━━━━━━━━━━━\u001b[0m\u001b[37m\u001b[0m \u001b[1m1s\u001b[0m 25ms/step - accuracy: 0.6990 - loss: 1.0097 - val_accuracy: 0.7500 - val_loss: 1.1250\n",
            "Epoch 39/100\n",
            "\u001b[1m25/25\u001b[0m \u001b[32m━━━━━━━━━━━━━━━━━━━━\u001b[0m\u001b[37m\u001b[0m \u001b[1m1s\u001b[0m 25ms/step - accuracy: 0.7294 - loss: 0.9924 - val_accuracy: 0.7500 - val_loss: 1.1185\n",
            "Epoch 40/100\n",
            "\u001b[1m25/25\u001b[0m \u001b[32m━━━━━━━━━━━━━━━━━━━━\u001b[0m\u001b[37m\u001b[0m \u001b[1m1s\u001b[0m 25ms/step - accuracy: 0.7269 - loss: 0.9431 - val_accuracy: 0.7604 - val_loss: 1.1054\n",
            "Epoch 41/100\n",
            "\u001b[1m25/25\u001b[0m \u001b[32m━━━━━━━━━━━━━━━━━━━━\u001b[0m\u001b[37m\u001b[0m \u001b[1m1s\u001b[0m 25ms/step - accuracy: 0.7488 - loss: 0.9502 - val_accuracy: 0.7500 - val_loss: 1.0950\n",
            "Epoch 42/100\n",
            "\u001b[1m25/25\u001b[0m \u001b[32m━━━━━━━━━━━━━━━━━━━━\u001b[0m\u001b[37m\u001b[0m \u001b[1m1s\u001b[0m 24ms/step - accuracy: 0.7208 - loss: 0.9531 - val_accuracy: 0.7500 - val_loss: 1.0863\n",
            "Epoch 43/100\n",
            "\u001b[1m25/25\u001b[0m \u001b[32m━━━━━━━━━━━━━━━━━━━━\u001b[0m\u001b[37m\u001b[0m \u001b[1m1s\u001b[0m 26ms/step - accuracy: 0.7357 - loss: 0.9027 - val_accuracy: 0.7500 - val_loss: 1.0847\n",
            "Epoch 44/100\n",
            "\u001b[1m25/25\u001b[0m \u001b[32m━━━━━━━━━━━━━━━━━━━━\u001b[0m\u001b[37m\u001b[0m \u001b[1m2s\u001b[0m 44ms/step - accuracy: 0.7660 - loss: 0.8935 - val_accuracy: 0.7500 - val_loss: 1.0815\n",
            "Epoch 45/100\n",
            "\u001b[1m25/25\u001b[0m \u001b[32m━━━━━━━━━━━━━━━━━━━━\u001b[0m\u001b[37m\u001b[0m \u001b[1m1s\u001b[0m 45ms/step - accuracy: 0.7435 - loss: 0.9081 - val_accuracy: 0.7500 - val_loss: 1.0754\n",
            "Epoch 46/100\n",
            "\u001b[1m25/25\u001b[0m \u001b[32m━━━━━━━━━━━━━━━━━━━━\u001b[0m\u001b[37m\u001b[0m \u001b[1m1s\u001b[0m 25ms/step - accuracy: 0.7351 - loss: 0.9345 - val_accuracy: 0.7500 - val_loss: 1.0743\n",
            "Epoch 47/100\n",
            "\u001b[1m25/25\u001b[0m \u001b[32m━━━━━━━━━━━━━━━━━━━━\u001b[0m\u001b[37m\u001b[0m \u001b[1m1s\u001b[0m 25ms/step - accuracy: 0.7551 - loss: 0.8586 - val_accuracy: 0.7500 - val_loss: 1.0620\n",
            "Epoch 48/100\n",
            "\u001b[1m25/25\u001b[0m \u001b[32m━━━━━━━━━━━━━━━━━━━━\u001b[0m\u001b[37m\u001b[0m \u001b[1m1s\u001b[0m 25ms/step - accuracy: 0.7692 - loss: 0.8607 - val_accuracy: 0.7604 - val_loss: 1.0551\n",
            "Epoch 49/100\n",
            "\u001b[1m25/25\u001b[0m \u001b[32m━━━━━━━━━━━━━━━━━━━━\u001b[0m\u001b[37m\u001b[0m \u001b[1m1s\u001b[0m 23ms/step - accuracy: 0.7285 - loss: 0.8799 - val_accuracy: 0.7500 - val_loss: 1.0558\n",
            "Epoch 50/100\n",
            "\u001b[1m25/25\u001b[0m \u001b[32m━━━━━━━━━━━━━━━━━━━━\u001b[0m\u001b[37m\u001b[0m \u001b[1m1s\u001b[0m 25ms/step - accuracy: 0.8208 - loss: 0.7851 - val_accuracy: 0.7500 - val_loss: 1.0446\n",
            "Epoch 51/100\n",
            "\u001b[1m25/25\u001b[0m \u001b[32m━━━━━━━━━━━━━━━━━━━━\u001b[0m\u001b[37m\u001b[0m \u001b[1m1s\u001b[0m 25ms/step - accuracy: 0.7670 - loss: 0.8269 - val_accuracy: 0.7500 - val_loss: 1.0376\n",
            "Epoch 52/100\n",
            "\u001b[1m25/25\u001b[0m \u001b[32m━━━━━━━━━━━━━━━━━━━━\u001b[0m\u001b[37m\u001b[0m \u001b[1m1s\u001b[0m 23ms/step - accuracy: 0.8156 - loss: 0.7847 - val_accuracy: 0.7500 - val_loss: 1.0390\n",
            "Epoch 53/100\n",
            "\u001b[1m25/25\u001b[0m \u001b[32m━━━━━━━━━━━━━━━━━━━━\u001b[0m\u001b[37m\u001b[0m \u001b[1m1s\u001b[0m 25ms/step - accuracy: 0.7893 - loss: 0.8137 - val_accuracy: 0.7500 - val_loss: 1.0324\n",
            "Epoch 54/100\n",
            "\u001b[1m25/25\u001b[0m \u001b[32m━━━━━━━━━━━━━━━━━━━━\u001b[0m\u001b[37m\u001b[0m \u001b[1m1s\u001b[0m 26ms/step - accuracy: 0.7705 - loss: 0.8159 - val_accuracy: 0.7500 - val_loss: 1.0245\n",
            "Epoch 55/100\n",
            "\u001b[1m25/25\u001b[0m \u001b[32m━━━━━━━━━━━━━━━━━━━━\u001b[0m\u001b[37m\u001b[0m \u001b[1m1s\u001b[0m 23ms/step - accuracy: 0.7772 - loss: 0.7877 - val_accuracy: 0.7500 - val_loss: 1.0269\n",
            "Epoch 56/100\n",
            "\u001b[1m25/25\u001b[0m \u001b[32m━━━━━━━━━━━━━━━━━━━━\u001b[0m\u001b[37m\u001b[0m \u001b[1m1s\u001b[0m 26ms/step - accuracy: 0.8207 - loss: 0.7054 - val_accuracy: 0.7500 - val_loss: 1.0181\n",
            "Epoch 57/100\n",
            "\u001b[1m25/25\u001b[0m \u001b[32m━━━━━━━━━━━━━━━━━━━━\u001b[0m\u001b[37m\u001b[0m \u001b[1m1s\u001b[0m 30ms/step - accuracy: 0.8386 - loss: 0.6976 - val_accuracy: 0.7500 - val_loss: 1.0134\n",
            "Epoch 58/100\n",
            "\u001b[1m25/25\u001b[0m \u001b[32m━━━━━━━━━━━━━━━━━━━━\u001b[0m\u001b[37m\u001b[0m \u001b[1m1s\u001b[0m 38ms/step - accuracy: 0.8340 - loss: 0.6836 - val_accuracy: 0.7500 - val_loss: 1.0103\n",
            "Epoch 59/100\n",
            "\u001b[1m25/25\u001b[0m \u001b[32m━━━━━━━━━━━━━━━━━━━━\u001b[0m\u001b[37m\u001b[0m \u001b[1m1s\u001b[0m 44ms/step - accuracy: 0.8186 - loss: 0.6999 - val_accuracy: 0.7500 - val_loss: 1.0076\n",
            "Epoch 60/100\n",
            "\u001b[1m25/25\u001b[0m \u001b[32m━━━━━━━━━━━━━━━━━━━━\u001b[0m\u001b[37m\u001b[0m \u001b[1m1s\u001b[0m 26ms/step - accuracy: 0.8073 - loss: 0.7337 - val_accuracy: 0.7500 - val_loss: 0.9989\n",
            "Epoch 61/100\n",
            "\u001b[1m25/25\u001b[0m \u001b[32m━━━━━━━━━━━━━━━━━━━━\u001b[0m\u001b[37m\u001b[0m \u001b[1m1s\u001b[0m 22ms/step - accuracy: 0.8344 - loss: 0.6640 - val_accuracy: 0.7500 - val_loss: 1.0048\n",
            "Epoch 62/100\n",
            "\u001b[1m25/25\u001b[0m \u001b[32m━━━━━━━━━━━━━━━━━━━━\u001b[0m\u001b[37m\u001b[0m \u001b[1m1s\u001b[0m 26ms/step - accuracy: 0.8369 - loss: 0.6433 - val_accuracy: 0.7500 - val_loss: 1.0056\n",
            "Epoch 63/100\n",
            "\u001b[1m25/25\u001b[0m \u001b[32m━━━━━━━━━━━━━━━━━━━━\u001b[0m\u001b[37m\u001b[0m \u001b[1m1s\u001b[0m 24ms/step - accuracy: 0.8403 - loss: 0.6749 - val_accuracy: 0.7500 - val_loss: 0.9925\n",
            "Epoch 64/100\n",
            "\u001b[1m25/25\u001b[0m \u001b[32m━━━━━━━━━━━━━━━━━━━━\u001b[0m\u001b[37m\u001b[0m \u001b[1m1s\u001b[0m 25ms/step - accuracy: 0.8426 - loss: 0.6612 - val_accuracy: 0.7500 - val_loss: 0.9879\n",
            "Epoch 65/100\n",
            "\u001b[1m25/25\u001b[0m \u001b[32m━━━━━━━━━━━━━━━━━━━━\u001b[0m\u001b[37m\u001b[0m \u001b[1m1s\u001b[0m 22ms/step - accuracy: 0.8622 - loss: 0.6465 - val_accuracy: 0.7500 - val_loss: 0.9952\n",
            "Epoch 66/100\n",
            "\u001b[1m25/25\u001b[0m \u001b[32m━━━━━━━━━━━━━━━━━━━━\u001b[0m\u001b[37m\u001b[0m \u001b[1m1s\u001b[0m 27ms/step - accuracy: 0.8495 - loss: 0.6411 - val_accuracy: 0.7500 - val_loss: 0.9837\n",
            "Epoch 67/100\n",
            "\u001b[1m25/25\u001b[0m \u001b[32m━━━━━━━━━━━━━━━━━━━━\u001b[0m\u001b[37m\u001b[0m \u001b[1m1s\u001b[0m 25ms/step - accuracy: 0.8757 - loss: 0.5990 - val_accuracy: 0.7500 - val_loss: 0.9783\n",
            "Epoch 68/100\n",
            "\u001b[1m25/25\u001b[0m \u001b[32m━━━━━━━━━━━━━━━━━━━━\u001b[0m\u001b[37m\u001b[0m \u001b[1m1s\u001b[0m 23ms/step - accuracy: 0.8431 - loss: 0.6141 - val_accuracy: 0.7500 - val_loss: 0.9810\n",
            "Epoch 69/100\n",
            "\u001b[1m25/25\u001b[0m \u001b[32m━━━━━━━━━━━━━━━━━━━━\u001b[0m\u001b[37m\u001b[0m \u001b[1m1s\u001b[0m 25ms/step - accuracy: 0.8607 - loss: 0.6255 - val_accuracy: 0.7604 - val_loss: 0.9691\n",
            "Epoch 70/100\n",
            "\u001b[1m25/25\u001b[0m \u001b[32m━━━━━━━━━━━━━━━━━━━━\u001b[0m\u001b[37m\u001b[0m \u001b[1m1s\u001b[0m 24ms/step - accuracy: 0.8837 - loss: 0.5879 - val_accuracy: 0.7604 - val_loss: 0.9797\n",
            "Epoch 71/100\n",
            "\u001b[1m25/25\u001b[0m \u001b[32m━━━━━━━━━━━━━━━━━━━━\u001b[0m\u001b[37m\u001b[0m \u001b[1m1s\u001b[0m 26ms/step - accuracy: 0.8773 - loss: 0.5847 - val_accuracy: 0.7708 - val_loss: 0.9753\n",
            "Epoch 72/100\n",
            "\u001b[1m25/25\u001b[0m \u001b[32m━━━━━━━━━━━━━━━━━━━━\u001b[0m\u001b[37m\u001b[0m \u001b[1m1s\u001b[0m 30ms/step - accuracy: 0.8374 - loss: 0.6169 - val_accuracy: 0.7812 - val_loss: 0.9673\n",
            "Epoch 73/100\n",
            "\u001b[1m25/25\u001b[0m \u001b[32m━━━━━━━━━━━━━━━━━━━━\u001b[0m\u001b[37m\u001b[0m \u001b[1m1s\u001b[0m 34ms/step - accuracy: 0.8690 - loss: 0.5681 - val_accuracy: 0.7708 - val_loss: 0.9694\n",
            "Epoch 74/100\n",
            "\u001b[1m25/25\u001b[0m \u001b[32m━━━━━━━━━━━━━━━━━━━━\u001b[0m\u001b[37m\u001b[0m \u001b[1m1s\u001b[0m 41ms/step - accuracy: 0.8509 - loss: 0.5769 - val_accuracy: 0.7708 - val_loss: 0.9706\n",
            "Epoch 75/100\n",
            "\u001b[1m25/25\u001b[0m \u001b[32m━━━━━━━━━━━━━━━━━━━━\u001b[0m\u001b[37m\u001b[0m \u001b[1m1s\u001b[0m 29ms/step - accuracy: 0.9008 - loss: 0.5395 - val_accuracy: 0.7708 - val_loss: 0.9588\n",
            "Epoch 76/100\n",
            "\u001b[1m25/25\u001b[0m \u001b[32m━━━━━━━━━━━━━━━━━━━━\u001b[0m\u001b[37m\u001b[0m \u001b[1m1s\u001b[0m 24ms/step - accuracy: 0.8713 - loss: 0.5808 - val_accuracy: 0.7604 - val_loss: 0.9597\n",
            "Epoch 77/100\n",
            "\u001b[1m25/25\u001b[0m \u001b[32m━━━━━━━━━━━━━━━━━━━━\u001b[0m\u001b[37m\u001b[0m \u001b[1m1s\u001b[0m 26ms/step - accuracy: 0.8959 - loss: 0.5179 - val_accuracy: 0.7812 - val_loss: 0.9582\n",
            "Epoch 78/100\n",
            "\u001b[1m25/25\u001b[0m \u001b[32m━━━━━━━━━━━━━━━━━━━━\u001b[0m\u001b[37m\u001b[0m \u001b[1m1s\u001b[0m 25ms/step - accuracy: 0.9053 - loss: 0.5211 - val_accuracy: 0.7708 - val_loss: 0.9521\n",
            "Epoch 79/100\n",
            "\u001b[1m25/25\u001b[0m \u001b[32m━━━━━━━━━━━━━━━━━━━━\u001b[0m\u001b[37m\u001b[0m \u001b[1m1s\u001b[0m 26ms/step - accuracy: 0.9097 - loss: 0.5140 - val_accuracy: 0.7812 - val_loss: 0.9444\n",
            "Epoch 80/100\n",
            "\u001b[1m25/25\u001b[0m \u001b[32m━━━━━━━━━━━━━━━━━━━━\u001b[0m\u001b[37m\u001b[0m \u001b[1m1s\u001b[0m 23ms/step - accuracy: 0.8810 - loss: 0.5235 - val_accuracy: 0.7812 - val_loss: 0.9552\n",
            "Epoch 81/100\n",
            "\u001b[1m25/25\u001b[0m \u001b[32m━━━━━━━━━━━━━━━━━━━━\u001b[0m\u001b[37m\u001b[0m \u001b[1m1s\u001b[0m 23ms/step - accuracy: 0.8706 - loss: 0.5222 - val_accuracy: 0.7812 - val_loss: 0.9540\n",
            "Epoch 82/100\n",
            "\u001b[1m25/25\u001b[0m \u001b[32m━━━━━━━━━━━━━━━━━━━━\u001b[0m\u001b[37m\u001b[0m \u001b[1m1s\u001b[0m 23ms/step - accuracy: 0.9132 - loss: 0.4694 - val_accuracy: 0.7812 - val_loss: 0.9538\n",
            "Epoch 83/100\n",
            "\u001b[1m25/25\u001b[0m \u001b[32m━━━━━━━━━━━━━━━━━━━━\u001b[0m\u001b[37m\u001b[0m \u001b[1m1s\u001b[0m 22ms/step - accuracy: 0.9164 - loss: 0.4814 - val_accuracy: 0.7708 - val_loss: 0.9491\n",
            "Epoch 84/100\n",
            "\u001b[1m25/25\u001b[0m \u001b[32m━━━━━━━━━━━━━━━━━━━━\u001b[0m\u001b[37m\u001b[0m \u001b[1m1s\u001b[0m 23ms/step - accuracy: 0.9098 - loss: 0.4756 - val_accuracy: 0.7812 - val_loss: 0.9568\n",
            "Epoch 85/100\n",
            "\u001b[1m25/25\u001b[0m \u001b[32m━━━━━━━━━━━━━━━━━━━━\u001b[0m\u001b[37m\u001b[0m \u001b[1m1s\u001b[0m 23ms/step - accuracy: 0.9323 - loss: 0.4543 - val_accuracy: 0.7812 - val_loss: 0.9568\n",
            "Epoch 86/100\n",
            "\u001b[1m25/25\u001b[0m \u001b[32m━━━━━━━━━━━━━━━━━━━━\u001b[0m\u001b[37m\u001b[0m \u001b[1m1s\u001b[0m 27ms/step - accuracy: 0.9145 - loss: 0.4651 - val_accuracy: 0.7917 - val_loss: 0.9472\n",
            "Epoch 87/100\n",
            "\u001b[1m25/25\u001b[0m \u001b[32m━━━━━━━━━━━━━━━━━━━━\u001b[0m\u001b[37m\u001b[0m \u001b[1m2s\u001b[0m 39ms/step - accuracy: 0.9311 - loss: 0.4408 - val_accuracy: 0.7917 - val_loss: 0.9385\n",
            "Epoch 88/100\n",
            "\u001b[1m25/25\u001b[0m \u001b[32m━━━━━━━━━━━━━━━━━━━━\u001b[0m\u001b[37m\u001b[0m \u001b[1m1s\u001b[0m 38ms/step - accuracy: 0.9114 - loss: 0.4391 - val_accuracy: 0.7917 - val_loss: 0.9414\n",
            "Epoch 89/100\n",
            "\u001b[1m25/25\u001b[0m \u001b[32m━━━━━━━━━━━━━━━━━━━━\u001b[0m\u001b[37m\u001b[0m \u001b[1m1s\u001b[0m 43ms/step - accuracy: 0.9134 - loss: 0.4607 - val_accuracy: 0.7917 - val_loss: 0.9423\n",
            "Epoch 90/100\n",
            "\u001b[1m25/25\u001b[0m \u001b[32m━━━━━━━━━━━━━━━━━━━━\u001b[0m\u001b[37m\u001b[0m \u001b[1m1s\u001b[0m 24ms/step - accuracy: 0.9323 - loss: 0.4185 - val_accuracy: 0.7917 - val_loss: 0.9495\n",
            "Epoch 91/100\n",
            "\u001b[1m25/25\u001b[0m \u001b[32m━━━━━━━━━━━━━━━━━━━━\u001b[0m\u001b[37m\u001b[0m \u001b[1m1s\u001b[0m 24ms/step - accuracy: 0.9298 - loss: 0.4502 - val_accuracy: 0.7917 - val_loss: 0.9513\n",
            "Epoch 92/100\n",
            "\u001b[1m25/25\u001b[0m \u001b[32m━━━━━━━━━━━━━━━━━━━━\u001b[0m\u001b[37m\u001b[0m \u001b[1m1s\u001b[0m 23ms/step - accuracy: 0.9316 - loss: 0.4159 - val_accuracy: 0.7917 - val_loss: 0.9444\n",
            "Epoch 93/100\n",
            "\u001b[1m25/25\u001b[0m \u001b[32m━━━━━━━━━━━━━━━━━━━━\u001b[0m\u001b[37m\u001b[0m \u001b[1m1s\u001b[0m 22ms/step - accuracy: 0.9301 - loss: 0.4156 - val_accuracy: 0.7812 - val_loss: 0.9397\n",
            "Epoch 94/100\n",
            "\u001b[1m25/25\u001b[0m \u001b[32m━━━━━━━━━━━━━━━━━━━━\u001b[0m\u001b[37m\u001b[0m \u001b[1m1s\u001b[0m 24ms/step - accuracy: 0.9317 - loss: 0.3948 - val_accuracy: 0.7917 - val_loss: 0.9422\n",
            "Epoch 95/100\n",
            "\u001b[1m25/25\u001b[0m \u001b[32m━━━━━━━━━━━━━━━━━━━━\u001b[0m\u001b[37m\u001b[0m \u001b[1m1s\u001b[0m 25ms/step - accuracy: 0.9221 - loss: 0.3933 - val_accuracy: 0.7917 - val_loss: 0.9384\n",
            "Epoch 96/100\n",
            "\u001b[1m25/25\u001b[0m \u001b[32m━━━━━━━━━━━━━━━━━━━━\u001b[0m\u001b[37m\u001b[0m \u001b[1m1s\u001b[0m 22ms/step - accuracy: 0.9279 - loss: 0.4134 - val_accuracy: 0.7812 - val_loss: 0.9445\n",
            "Epoch 97/100\n",
            "\u001b[1m25/25\u001b[0m \u001b[32m━━━━━━━━━━━━━━━━━━━━\u001b[0m\u001b[37m\u001b[0m \u001b[1m1s\u001b[0m 23ms/step - accuracy: 0.9438 - loss: 0.3609 - val_accuracy: 0.7708 - val_loss: 0.9474\n",
            "Epoch 98/100\n",
            "\u001b[1m25/25\u001b[0m \u001b[32m━━━━━━━━━━━━━━━━━━━━\u001b[0m\u001b[37m\u001b[0m \u001b[1m1s\u001b[0m 25ms/step - accuracy: 0.9262 - loss: 0.3855 - val_accuracy: 0.7812 - val_loss: 0.9304\n",
            "Epoch 99/100\n",
            "\u001b[1m25/25\u001b[0m \u001b[32m━━━━━━━━━━━━━━━━━━━━\u001b[0m\u001b[37m\u001b[0m \u001b[1m1s\u001b[0m 23ms/step - accuracy: 0.9483 - loss: 0.3706 - val_accuracy: 0.7812 - val_loss: 0.9461\n",
            "Epoch 100/100\n",
            "\u001b[1m25/25\u001b[0m \u001b[32m━━━━━━━━━━━━━━━━━━━━\u001b[0m\u001b[37m\u001b[0m \u001b[1m1s\u001b[0m 23ms/step - accuracy: 0.9425 - loss: 0.3673 - val_accuracy: 0.7812 - val_loss: 0.9334\n",
            "\u001b[1m4/4\u001b[0m \u001b[32m━━━━━━━━━━━━━━━━━━━━\u001b[0m\u001b[37m\u001b[0m \u001b[1m5s\u001b[0m 2s/step - accuracy: 0.7969 - loss: 0.8019\n",
            "Test Accuracy: 0.75\n"
          ]
        }
      ]
    },
    {
      "cell_type": "code",
      "source": [
        "def evaluate_model(dataset, model):\n",
        "    y_true = []\n",
        "    y_pred = []\n",
        "\n",
        "    for images, labels in dataset:\n",
        "        preds = model.predict(images)\n",
        "        pred_labels = np.argmax(preds, axis=-1)\n",
        "\n",
        "        y_true.extend(labels.numpy())\n",
        "        y_pred.extend(pred_labels)\n",
        "\n",
        "\n",
        "    y_true = np.array(y_true)\n",
        "    y_pred = np.array(y_pred)\n",
        "\n",
        "    accuracy = accuracy_score(y_true, y_pred)\n",
        "    precision = precision_score(y_true, y_pred,average='weighted')\n",
        "    recall = recall_score(y_true, y_pred,average='weighted')\n",
        "    f1 = f1_score(y_true, y_pred,average='weighted')\n",
        "    cm = confusion_matrix(y_true, y_pred)\n",
        "\n",
        "    return accuracy, precision, recall, f1, cm"
      ],
      "metadata": {
        "id": "ZqS3tW6t0akL"
      },
      "execution_count": null,
      "outputs": []
    },
    {
      "cell_type": "code",
      "source": [
        "test_acc, test_precision, test_recall, test_f1, cm = evaluate_model(test_data, model)\n",
        "\n",
        "print(f\"Test Accuracy: {test_acc:.4f}\")\n",
        "print(f\"Test Precision: {test_precision:.4f}\")\n",
        "print(f\"Test Recall: {test_recall:.4f}\")\n",
        "print(f\"Test F1-Score: {test_f1:.4f}\")"
      ],
      "metadata": {
        "id": "FEgNPNYs0bub",
        "colab": {
          "base_uri": "https://localhost:8080/"
        },
        "outputId": "4172ab5f-1808-43c6-aea5-69884c2c96c7"
      },
      "execution_count": null,
      "outputs": [
        {
          "output_type": "stream",
          "name": "stdout",
          "text": [
            "\u001b[1m1/1\u001b[0m \u001b[32m━━━━━━━━━━━━━━━━━━━━\u001b[0m\u001b[37m\u001b[0m \u001b[1m4s\u001b[0m 4s/step\n",
            "\u001b[1m1/1\u001b[0m \u001b[32m━━━━━━━━━━━━━━━━━━━━\u001b[0m\u001b[37m\u001b[0m \u001b[1m0s\u001b[0m 38ms/step\n",
            "\u001b[1m1/1\u001b[0m \u001b[32m━━━━━━━━━━━━━━━━━━━━\u001b[0m\u001b[37m\u001b[0m \u001b[1m0s\u001b[0m 41ms/step\n",
            "\u001b[1m1/1\u001b[0m \u001b[32m━━━━━━━━━━━━━━━━━━━━\u001b[0m\u001b[37m\u001b[0m \u001b[1m4s\u001b[0m 4s/step\n",
            "Test Accuracy: 0.7500\n",
            "Test Precision: 0.7539\n",
            "Test Recall: 0.7500\n",
            "Test F1-Score: 0.7416\n"
          ]
        }
      ]
    },
    {
      "cell_type": "code",
      "source": [
        "plt.figure(figsize=(10, 8))\n",
        "disp = ConfusionMatrixDisplay(confusion_matrix=cm)\n",
        "disp.plot(cmap=plt.cm.Blues)\n",
        "plt.title('Confusion Matrix')\n",
        "plt.show()"
      ],
      "metadata": {
        "id": "N8P1l1kJ0tR0",
        "colab": {
          "base_uri": "https://localhost:8080/",
          "height": 489
        },
        "outputId": "3b9e1144-7d2e-4fa0-cbb7-0d57f5be1d59"
      },
      "execution_count": null,
      "outputs": [
        {
          "output_type": "display_data",
          "data": {
            "text/plain": [
              "<Figure size 1000x800 with 0 Axes>"
            ]
          },
          "metadata": {}
        },
        {
          "output_type": "display_data",
          "data": {
            "text/plain": [
              "<Figure size 640x480 with 2 Axes>"
            ],
            "image/png": "[encoded data removed]"
          },
          "metadata": {}
        }
      ]
    }
  ]
}