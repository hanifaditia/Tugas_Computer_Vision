{
  "nbformat": 4,
  "nbformat_minor": 0,
  "metadata": {
    "colab": {
      "provenance": [],
      "gpuType": "T4"
    },
    "kernelspec": {
      "name": "python3",
      "display_name": "Python 3"
    },
    "language_info": {
      "name": "python"
    },
    "accelerator": "GPU"
  },
  "cells": [
    {
      "cell_type": "code",
      "source": [
        "import tensorflow as tf\n",
        "from tensorflow.keras.preprocessing.image import ImageDataGenerator\n",
        "from sklearn.model_selection import train_test_split\n",
        "from tensorflow.keras import layers, models\n",
        "from tensorflow.keras.applications import EfficientNetB0\n",
        "import numpy as np\n",
        "from sklearn.metrics import precision_score, recall_score, f1_score, accuracy_score, confusion_matrix, ConfusionMatrixDisplay\n",
        "import matplotlib.pyplot as plt\n",
        "from skimage.restoration import denoise_tv_chambolle\n",
        "from scipy.ndimage import median_filter\n",
        "import cv2\n",
        "from tensorflow.keras.applications import EfficientNetB0, DenseNet121, MobileNetV3Small\n",
        "from tensorflow.keras import layers, Model\n",
        "from tensorflow.keras.callbacks import EarlyStopping"
      ],
      "metadata": {
        "id": "6Wr8i7dHq7v5"
      },
      "execution_count": null,
      "outputs": []
    },
    {
      "cell_type": "code",
      "execution_count": null,
      "metadata": {
        "id": "sT2FGK2bqyRU",
        "colab": {
          "base_uri": "https://localhost:8080/"
        },
        "outputId": "2ce90797-5eee-4b2a-fa95-94e94eac4600"
      },
      "outputs": [
        {
          "output_type": "stream",
          "name": "stdout",
          "text": [
            "/usr/local/lib/python3.10/dist-packages/gdown/__main__.py:140: FutureWarning: Option `--id` was deprecated in version 4.3.1 and will be removed in 5.0. You don't need to pass it anymore to use a file ID.\n",
            "  warnings.warn(\n",
            "Downloading...\n",
            "From (original): https://drive.google.com/uc?id=12DWmjL6LNLsNye-3o-il-Hw4GDgu6yOh\n",
            "From (redirected): https://drive.google.com/uc?id=12DWmjL6LNLsNye-3o-il-Hw4GDgu6yOh&confirm=t&uuid=bc2a6551-911b-4e77-ae99-95eb7207224c\n",
            "To: /content/Dataset5000.zip\n",
            "100% 590M/590M [01:30<00:00, 6.49MB/s]\n"
          ]
        }
      ],
      "source": [
        "!gdown --id 12DWmjL6LNLsNye-3o-il-Hw4GDgu6yOh\n",
        "!unzip -q /content/Dataset5000.zip -d /content/dataset"
      ]
    },
    {
      "cell_type": "code",
      "source": [
        "import os\n",
        "import shutil\n",
        "import tensorflow as tf\n",
        "\n",
        "# Define your dataset path\n",
        "dataset_path = \"/content/dataset/Dataset5000\"\n",
        "output_path = \"/content/dataset/selected_images\"\n",
        "\n",
        "# Create output directories\n",
        "if not os.path.exists(output_path):\n",
        "    os.makedirs(output_path)\n",
        "\n",
        "# Load the dataset\n",
        "dataset = tf.keras.preprocessing.image_dataset_from_directory(\n",
        "    dataset_path,\n",
        "    image_size=(224, 224),\n",
        "    batch_size=64,\n",
        "    label_mode='int',\n",
        "    shuffle=True,\n",
        "    seed=42\n",
        ")\n",
        "\n",
        "# Get class names\n",
        "class_names = dataset.class_names\n",
        "\n",
        "# Process each class\n",
        "for class_index, class_name in enumerate(class_names):\n",
        "    class_folder = os.path.join(output_path, class_name)\n",
        "    if not os.path.exists(class_folder):\n",
        "        os.makedirs(class_folder)\n",
        "\n",
        "    # Track the number of images copied\n",
        "    count = 0\n",
        "\n",
        "    for images, labels in dataset:\n",
        "        for i in range(images.shape[0]):\n",
        "            if count < 100 and labels[i].numpy() == class_index:\n",
        "                # Save the image\n",
        "                img = tf.keras.preprocessing.image.array_to_img(images[i])\n",
        "                img.save(os.path.join(class_folder, f\"{class_name}_{count}.jpg\"))\n",
        "                count += 1\n",
        "\n",
        "            if count >= 100:\n",
        "                break\n",
        "\n",
        "        if count >= 100:\n",
        "            break\n",
        "\n",
        "print(\"Images have been saved.\")\n"
      ],
      "metadata": {
        "id": "7CTtSXOwq9u1",
        "colab": {
          "base_uri": "https://localhost:8080/"
        },
        "outputId": "b25de7c2-5abf-488d-cc40-370b01b6719d"
      },
      "execution_count": null,
      "outputs": [
        {
          "output_type": "stream",
          "name": "stdout",
          "text": [
            "Found 5968 files belonging to 10 classes.\n",
            "Images have been saved.\n"
          ]
        }
      ]
    },
    {
      "cell_type": "code",
      "source": [
        "dataset1000 = tf.keras.preprocessing.image_dataset_from_directory(\n",
        "    \"/content/dataset/selected_images\",\n",
        "    image_size=(224, 224),\n",
        "    batch_size=32,\n",
        "    label_mode='int',\n",
        "    shuffle=True,\n",
        "    seed=42\n",
        ")\n"
      ],
      "metadata": {
        "id": "YoMKnlQEvT9w",
        "colab": {
          "base_uri": "https://localhost:8080/"
        },
        "outputId": "9a2fd486-f597-4a7d-d30f-dc953f9a099f"
      },
      "execution_count": null,
      "outputs": [
        {
          "output_type": "stream",
          "name": "stdout",
          "text": [
            "Found 1000 files belonging to 10 classes.\n"
          ]
        }
      ]
    },
    {
      "cell_type": "code",
      "source": [
        "\n",
        "num_batches = tf.data.experimental.cardinality(dataset1000).numpy()\n",
        "\n",
        "train_size = int(0.8 * num_batches)\n",
        "val_size = int(0.1 * num_batches)\n",
        "test_size = num_batches - train_size - val_size\n",
        "\n",
        "\n",
        "train_dataset = dataset1000.take(train_size)\n",
        "val_dataset = dataset1000.skip(train_size).take(val_size)\n",
        "test_dataset = dataset1000.skip(train_size + val_size)"
      ],
      "metadata": {
        "id": "7ZuExOg7uTTN"
      },
      "execution_count": null,
      "outputs": []
    },
    {
      "cell_type": "code",
      "source": [
        "\n",
        "class_counts = {}\n",
        "\n",
        "for images, labels in test_dataset:\n",
        "    for label in labels.numpy():\n",
        "        if label in class_counts:\n",
        "            class_counts[label] += 1\n",
        "        else:\n",
        "            class_counts[label] = 1\n",
        "\n",
        "\n",
        "class_counts = dict(sorted(class_counts.items()))\n",
        "\n",
        "\n",
        "for class_label, count in class_counts.items():\n",
        "    print(f'Class {class_label}: {count} samples')"
      ],
      "metadata": {
        "id": "u8dhoyZmvhQI",
        "colab": {
          "base_uri": "https://localhost:8080/"
        },
        "outputId": "6ad4d554-3788-4961-ca1c-7413938d4bd7"
      },
      "execution_count": null,
      "outputs": [
        {
          "output_type": "stream",
          "name": "stdout",
          "text": [
            "Class 0: 6 samples\n",
            "Class 1: 10 samples\n",
            "Class 2: 13 samples\n",
            "Class 3: 6 samples\n",
            "Class 4: 14 samples\n",
            "Class 5: 8 samples\n",
            "Class 6: 11 samples\n",
            "Class 7: 11 samples\n",
            "Class 8: 14 samples\n",
            "Class 9: 11 samples\n"
          ]
        }
      ]
    },
    {
      "cell_type": "code",
      "source": [
        "import tensorflow as tf\n",
        "import os\n",
        "\n",
        "output_dir = \"output_data\"\n",
        "train_dir = os.path.join(output_dir, \"train\")\n",
        "val_dir = os.path.join(output_dir, \"val\")\n",
        "test_dir = os.path.join(output_dir, \"test\")\n",
        "\n",
        "\n",
        "os.makedirs(train_dir, exist_ok=True)\n",
        "os.makedirs(val_dir, exist_ok=True)\n",
        "os.makedirs(test_dir, exist_ok=True)\n",
        "\n",
        "def save_dataset(dataset, output_path):\n",
        "    class_counts = {}\n",
        "    for i, (images, labels) in enumerate(dataset):\n",
        "        for j in range(images.shape[0]):\n",
        "            label = labels[j].numpy()\n",
        "            label_dir = os.path.join(output_path, str(label))\n",
        "            os.makedirs(label_dir, exist_ok=True)\n",
        "\n",
        "            class_counts[label] = class_counts.get(label, 0) + 1\n",
        "\n",
        "            img_path = os.path.join(label_dir, f\"img_{i}_{j}.jpg\")\n",
        "            tf.keras.utils.save_img(img_path, images[j].numpy())\n",
        "    print(f\"Saved data to {output_path}\")\n",
        "    for class_label, count in class_counts.items():\n",
        "        print(f\"Class {class_label}: {count} samples\")\n",
        "\n",
        "\n",
        "save_dataset(train_dataset, train_dir)\n",
        "save_dataset(val_dataset, val_dir)\n",
        "save_dataset(test_dataset, test_dir)\n"
      ],
      "metadata": {
        "id": "8zAMs64axyyQ",
        "colab": {
          "base_uri": "https://localhost:8080/"
        },
        "outputId": "285f19b4-744a-427b-f47b-34d4ab680a37"
      },
      "execution_count": null,
      "outputs": [
        {
          "output_type": "stream",
          "name": "stdout",
          "text": [
            "Saved data to output_data/train\n",
            "Class 0: 81 samples\n",
            "Class 4: 75 samples\n",
            "Class 7: 74 samples\n",
            "Class 9: 84 samples\n",
            "Class 5: 77 samples\n",
            "Class 8: 73 samples\n",
            "Class 2: 84 samples\n",
            "Class 3: 85 samples\n",
            "Class 1: 82 samples\n",
            "Class 6: 85 samples\n",
            "Saved data to output_data/val\n",
            "Class 9: 10 samples\n",
            "Class 8: 14 samples\n",
            "Class 6: 11 samples\n",
            "Class 0: 7 samples\n",
            "Class 2: 8 samples\n",
            "Class 4: 10 samples\n",
            "Class 3: 13 samples\n",
            "Class 1: 8 samples\n",
            "Class 5: 7 samples\n",
            "Class 7: 8 samples\n",
            "Saved data to output_data/test\n",
            "Class 9: 11 samples\n",
            "Class 6: 12 samples\n",
            "Class 2: 6 samples\n",
            "Class 0: 12 samples\n",
            "Class 8: 8 samples\n",
            "Class 3: 9 samples\n",
            "Class 7: 14 samples\n",
            "Class 1: 11 samples\n",
            "Class 5: 13 samples\n",
            "Class 4: 8 samples\n"
          ]
        }
      ]
    },
    {
      "cell_type": "markdown",
      "source": [
        "# PREPROCESSING"
      ],
      "metadata": {
        "id": "LL9RcNUUrNOT"
      }
    },
    {
      "cell_type": "code",
      "source": [
        "# LOAD AND RESIZE TO 224x224\n",
        "train_data = tf.keras.preprocessing.image_dataset_from_directory(\n",
        "    \"/content/output_data/train\",\n",
        "    image_size=(224, 224),\n",
        "    batch_size=32,\n",
        "    label_mode='int',\n",
        "    shuffle=True,\n",
        "    seed=42\n",
        ")\n",
        "\n",
        "val_data = tf.keras.preprocessing.image_dataset_from_directory(\n",
        "    \"/content/output_data/val\",\n",
        "    image_size=(224, 224),\n",
        "    batch_size=32,\n",
        "    label_mode='int',\n",
        "    shuffle=True,\n",
        "    seed=42\n",
        ")\n",
        "\n",
        "test_data = tf.keras.preprocessing.image_dataset_from_directory(\n",
        "    \"/content/output_data/test\",\n",
        "    image_size=(224, 224),\n",
        "    batch_size=32,\n",
        "    label_mode='int',\n",
        "    shuffle=False,\n",
        "    seed=42\n",
        ")"
      ],
      "metadata": {
        "id": "0fv8Mm4g6jYS",
        "colab": {
          "base_uri": "https://localhost:8080/"
        },
        "outputId": "0ae9cc9f-6831-4b7e-b35a-fb97286872f9"
      },
      "execution_count": null,
      "outputs": [
        {
          "output_type": "stream",
          "name": "stdout",
          "text": [
            "Found 800 files belonging to 10 classes.\n",
            "Found 96 files belonging to 10 classes.\n",
            "Found 104 files belonging to 10 classes.\n"
          ]
        }
      ]
    },
    {
      "cell_type": "markdown",
      "source": [
        "# MODEL"
      ],
      "metadata": {
        "id": "3k6z7O5RrzfM"
      }
    },
    {
      "cell_type": "code",
      "source": [
        "base_model = DenseNet121(\n",
        "    weights='imagenet',\n",
        "    include_top=False,\n",
        "    input_shape=(224, 224, 3) )\n",
        "base_model.trainable = False\n",
        "# Add custom classification head\n",
        "model = models.Sequential([\n",
        "    base_model,\n",
        "    layers.GlobalAveragePooling2D(),\n",
        "    layers.Dense(512, activation='relu'),\n",
        "    layers.Dropout(0.5),\n",
        "    layers.Dense(10, activation='softmax')\n",
        "])\n",
        "\n",
        "\n",
        "model.compile(\n",
        "    optimizer=tf.keras.optimizers.Adam(learning_rate=0.0001),\n",
        "    loss='sparse_categorical_crossentropy',\n",
        "    metrics=['accuracy']\n",
        ")"
      ],
      "metadata": {
        "id": "q0rwRr24r0CZ"
      },
      "execution_count": null,
      "outputs": []
    },
    {
      "cell_type": "code",
      "source": [
        "early_stopping = EarlyStopping(\n",
        "    monitor='val_loss',\n",
        "    patience=10,\n",
        "    restore_best_weights=True\n",
        ")\n",
        "\n",
        "history = model.fit(\n",
        "    train_data,\n",
        "    validation_data=val_data,\n",
        "    epochs=100,\n",
        "    batch_size=32,\n",
        "    callbacks=[early_stopping]\n",
        ")\n",
        "\n",
        "# Evaluate on test dataset\n",
        "test_loss, test_accuracy = model.evaluate(test_data)\n",
        "print(f\"Test Accuracy: {test_accuracy:.2f}\")"
      ],
      "metadata": {
        "id": "QvPbsbhZweko",
        "colab": {
          "base_uri": "https://localhost:8080/"
        },
        "outputId": "707c6d1f-ce1f-4292-e285-88f5c79e22d0"
      },
      "execution_count": null,
      "outputs": [
        {
          "output_type": "stream",
          "name": "stdout",
          "text": [
            "Epoch 1/100\n",
            "\u001b[1m25/25\u001b[0m \u001b[32m━━━━━━━━━━━━━━━━━━━━\u001b[0m\u001b[37m\u001b[0m \u001b[1m29s\u001b[0m 442ms/step - accuracy: 0.1291 - loss: 6.5070 - val_accuracy: 0.2188 - val_loss: 2.7205\n",
            "Epoch 2/100\n",
            "\u001b[1m25/25\u001b[0m \u001b[32m━━━━━━━━━━━━━━━━━━━━\u001b[0m\u001b[37m\u001b[0m \u001b[1m6s\u001b[0m 91ms/step - accuracy: 0.0938 - loss: 5.3010 - val_accuracy: 0.2292 - val_loss: 2.3505\n",
            "Epoch 3/100\n",
            "\u001b[1m25/25\u001b[0m \u001b[32m━━━━━━━━━━━━━━━━━━━━\u001b[0m\u001b[37m\u001b[0m \u001b[1m2s\u001b[0m 96ms/step - accuracy: 0.1340 - loss: 4.3490 - val_accuracy: 0.3021 - val_loss: 2.3335\n",
            "Epoch 4/100\n",
            "\u001b[1m25/25\u001b[0m \u001b[32m━━━━━━━━━━━━━━━━━━━━\u001b[0m\u001b[37m\u001b[0m \u001b[1m2s\u001b[0m 94ms/step - accuracy: 0.1595 - loss: 4.1876 - val_accuracy: 0.3333 - val_loss: 2.1570\n",
            "Epoch 5/100\n",
            "\u001b[1m25/25\u001b[0m \u001b[32m━━━━━━━━━━━━━━━━━━━━\u001b[0m\u001b[37m\u001b[0m \u001b[1m3s\u001b[0m 93ms/step - accuracy: 0.1561 - loss: 3.5009 - val_accuracy: 0.3229 - val_loss: 2.0817\n",
            "Epoch 6/100\n",
            "\u001b[1m25/25\u001b[0m \u001b[32m━━━━━━━━━━━━━━━━━━━━\u001b[0m\u001b[37m\u001b[0m \u001b[1m2s\u001b[0m 89ms/step - accuracy: 0.2111 - loss: 2.9875 - val_accuracy: 0.3854 - val_loss: 2.0026\n",
            "Epoch 7/100\n",
            "\u001b[1m25/25\u001b[0m \u001b[32m━━━━━━━━━━━━━━━━━━━━\u001b[0m\u001b[37m\u001b[0m \u001b[1m3s\u001b[0m 90ms/step - accuracy: 0.2338 - loss: 2.8065 - val_accuracy: 0.3958 - val_loss: 1.9925\n",
            "Epoch 8/100\n",
            "\u001b[1m25/25\u001b[0m \u001b[32m━━━━━━━━━━━━━━━━━━━━\u001b[0m\u001b[37m\u001b[0m \u001b[1m2s\u001b[0m 97ms/step - accuracy: 0.2609 - loss: 2.5764 - val_accuracy: 0.4062 - val_loss: 1.9017\n",
            "Epoch 9/100\n",
            "\u001b[1m25/25\u001b[0m \u001b[32m━━━━━━━━━━━━━━━━━━━━\u001b[0m\u001b[37m\u001b[0m \u001b[1m3s\u001b[0m 98ms/step - accuracy: 0.2525 - loss: 2.3173 - val_accuracy: 0.3854 - val_loss: 1.8889\n",
            "Epoch 10/100\n",
            "\u001b[1m25/25\u001b[0m \u001b[32m━━━━━━━━━━━━━━━━━━━━\u001b[0m\u001b[37m\u001b[0m \u001b[1m2s\u001b[0m 90ms/step - accuracy: 0.2685 - loss: 2.2227 - val_accuracy: 0.4167 - val_loss: 1.8565\n",
            "Epoch 11/100\n",
            "\u001b[1m25/25\u001b[0m \u001b[32m━━━━━━━━━━━━━━━━━━━━\u001b[0m\u001b[37m\u001b[0m \u001b[1m2s\u001b[0m 95ms/step - accuracy: 0.2763 - loss: 2.1685 - val_accuracy: 0.4271 - val_loss: 1.8289\n",
            "Epoch 12/100\n",
            "\u001b[1m25/25\u001b[0m \u001b[32m━━━━━━━━━━━━━━━━━━━━\u001b[0m\u001b[37m\u001b[0m \u001b[1m2s\u001b[0m 84ms/step - accuracy: 0.3157 - loss: 2.0049 - val_accuracy: 0.4271 - val_loss: 1.8332\n",
            "Epoch 13/100\n",
            "\u001b[1m25/25\u001b[0m \u001b[32m━━━━━━━━━━━━━━━━━━━━\u001b[0m\u001b[37m\u001b[0m \u001b[1m2s\u001b[0m 97ms/step - accuracy: 0.2836 - loss: 2.1206 - val_accuracy: 0.4479 - val_loss: 1.8138\n",
            "Epoch 14/100\n",
            "\u001b[1m25/25\u001b[0m \u001b[32m━━━━━━━━━━━━━━━━━━━━\u001b[0m\u001b[37m\u001b[0m \u001b[1m3s\u001b[0m 102ms/step - accuracy: 0.3044 - loss: 2.0275 - val_accuracy: 0.4479 - val_loss: 1.8067\n",
            "Epoch 15/100\n",
            "\u001b[1m25/25\u001b[0m \u001b[32m━━━━━━━━━━━━━━━━━━━━\u001b[0m\u001b[37m\u001b[0m \u001b[1m5s\u001b[0m 95ms/step - accuracy: 0.3309 - loss: 2.0076 - val_accuracy: 0.4167 - val_loss: 1.7745\n",
            "Epoch 16/100\n",
            "\u001b[1m25/25\u001b[0m \u001b[32m━━━━━━━━━━━━━━━━━━━━\u001b[0m\u001b[37m\u001b[0m \u001b[1m2s\u001b[0m 94ms/step - accuracy: 0.3403 - loss: 1.9099 - val_accuracy: 0.4062 - val_loss: 1.7674\n",
            "Epoch 17/100\n",
            "\u001b[1m25/25\u001b[0m \u001b[32m━━━━━━━━━━━━━━━━━━━━\u001b[0m\u001b[37m\u001b[0m \u001b[1m2s\u001b[0m 96ms/step - accuracy: 0.3716 - loss: 1.8853 - val_accuracy: 0.4479 - val_loss: 1.7412\n",
            "Epoch 18/100\n",
            "\u001b[1m25/25\u001b[0m \u001b[32m━━━━━━━━━━━━━━━━━━━━\u001b[0m\u001b[37m\u001b[0m \u001b[1m3s\u001b[0m 102ms/step - accuracy: 0.3903 - loss: 1.7324 - val_accuracy: 0.4792 - val_loss: 1.7366\n",
            "Epoch 19/100\n",
            "\u001b[1m25/25\u001b[0m \u001b[32m━━━━━━━━━━━━━━━━━━━━\u001b[0m\u001b[37m\u001b[0m \u001b[1m2s\u001b[0m 92ms/step - accuracy: 0.3385 - loss: 1.8315 - val_accuracy: 0.4688 - val_loss: 1.7236\n",
            "Epoch 20/100\n",
            "\u001b[1m25/25\u001b[0m \u001b[32m━━━━━━━━━━━━━━━━━━━━\u001b[0m\u001b[37m\u001b[0m \u001b[1m2s\u001b[0m 91ms/step - accuracy: 0.4166 - loss: 1.7739 - val_accuracy: 0.4792 - val_loss: 1.6806\n",
            "Epoch 21/100\n",
            "\u001b[1m25/25\u001b[0m \u001b[32m━━━━━━━━━━━━━━━━━━━━\u001b[0m\u001b[37m\u001b[0m \u001b[1m3s\u001b[0m 91ms/step - accuracy: 0.3727 - loss: 1.7465 - val_accuracy: 0.4792 - val_loss: 1.6466\n",
            "Epoch 22/100\n",
            "\u001b[1m25/25\u001b[0m \u001b[32m━━━━━━━━━━━━━━━━━━━━\u001b[0m\u001b[37m\u001b[0m \u001b[1m2s\u001b[0m 95ms/step - accuracy: 0.3801 - loss: 1.7353 - val_accuracy: 0.4792 - val_loss: 1.6357\n",
            "Epoch 23/100\n",
            "\u001b[1m25/25\u001b[0m \u001b[32m━━━━━━━━━━━━━━━━━━━━\u001b[0m\u001b[37m\u001b[0m \u001b[1m3s\u001b[0m 98ms/step - accuracy: 0.4237 - loss: 1.6537 - val_accuracy: 0.4896 - val_loss: 1.6280\n",
            "Epoch 24/100\n",
            "\u001b[1m25/25\u001b[0m \u001b[32m━━━━━━━━━━━━━━━━━━━━\u001b[0m\u001b[37m\u001b[0m \u001b[1m2s\u001b[0m 95ms/step - accuracy: 0.4352 - loss: 1.6592 - val_accuracy: 0.4896 - val_loss: 1.6277\n",
            "Epoch 25/100\n",
            "\u001b[1m25/25\u001b[0m \u001b[32m━━━━━━━━━━━━━━━━━━━━\u001b[0m\u001b[37m\u001b[0m \u001b[1m2s\u001b[0m 95ms/step - accuracy: 0.4309 - loss: 1.6504 - val_accuracy: 0.5000 - val_loss: 1.6075\n",
            "Epoch 26/100\n",
            "\u001b[1m25/25\u001b[0m \u001b[32m━━━━━━━━━━━━━━━━━━━━\u001b[0m\u001b[37m\u001b[0m \u001b[1m2s\u001b[0m 96ms/step - accuracy: 0.4171 - loss: 1.6579 - val_accuracy: 0.5417 - val_loss: 1.5633\n",
            "Epoch 27/100\n",
            "\u001b[1m25/25\u001b[0m \u001b[32m━━━━━━━━━━━━━━━━━━━━\u001b[0m\u001b[37m\u001b[0m \u001b[1m2s\u001b[0m 92ms/step - accuracy: 0.4697 - loss: 1.5516 - val_accuracy: 0.5312 - val_loss: 1.5527\n",
            "Epoch 28/100\n",
            "\u001b[1m25/25\u001b[0m \u001b[32m━━━━━━━━━━━━━━━━━━━━\u001b[0m\u001b[37m\u001b[0m \u001b[1m3s\u001b[0m 97ms/step - accuracy: 0.4381 - loss: 1.6438 - val_accuracy: 0.5625 - val_loss: 1.5236\n",
            "Epoch 29/100\n",
            "\u001b[1m25/25\u001b[0m \u001b[32m━━━━━━━━━━━━━━━━━━━━\u001b[0m\u001b[37m\u001b[0m \u001b[1m2s\u001b[0m 94ms/step - accuracy: 0.5029 - loss: 1.5213 - val_accuracy: 0.5417 - val_loss: 1.5312\n",
            "Epoch 30/100\n",
            "\u001b[1m25/25\u001b[0m \u001b[32m━━━━━━━━━━━━━━━━━━━━\u001b[0m\u001b[37m\u001b[0m \u001b[1m2s\u001b[0m 90ms/step - accuracy: 0.4737 - loss: 1.5109 - val_accuracy: 0.5938 - val_loss: 1.5154\n",
            "Epoch 31/100\n",
            "\u001b[1m25/25\u001b[0m \u001b[32m━━━━━━━━━━━━━━━━━━━━\u001b[0m\u001b[37m\u001b[0m \u001b[1m3s\u001b[0m 98ms/step - accuracy: 0.4999 - loss: 1.4682 - val_accuracy: 0.5521 - val_loss: 1.5102\n",
            "Epoch 32/100\n",
            "\u001b[1m25/25\u001b[0m \u001b[32m━━━━━━━━━━━━━━━━━━━━\u001b[0m\u001b[37m\u001b[0m \u001b[1m2s\u001b[0m 83ms/step - accuracy: 0.5047 - loss: 1.4628 - val_accuracy: 0.5729 - val_loss: 1.5132\n",
            "Epoch 33/100\n",
            "\u001b[1m25/25\u001b[0m \u001b[32m━━━━━━━━━━━━━━━━━━━━\u001b[0m\u001b[37m\u001b[0m \u001b[1m2s\u001b[0m 91ms/step - accuracy: 0.4531 - loss: 1.5304 - val_accuracy: 0.6042 - val_loss: 1.4774\n",
            "Epoch 34/100\n",
            "\u001b[1m25/25\u001b[0m \u001b[32m━━━━━━━━━━━━━━━━━━━━\u001b[0m\u001b[37m\u001b[0m \u001b[1m2s\u001b[0m 98ms/step - accuracy: 0.4883 - loss: 1.4938 - val_accuracy: 0.6250 - val_loss: 1.4596\n",
            "Epoch 35/100\n",
            "\u001b[1m25/25\u001b[0m \u001b[32m━━━━━━━━━━━━━━━━━━━━\u001b[0m\u001b[37m\u001b[0m \u001b[1m2s\u001b[0m 94ms/step - accuracy: 0.5432 - loss: 1.3626 - val_accuracy: 0.5833 - val_loss: 1.4504\n",
            "Epoch 36/100\n",
            "\u001b[1m25/25\u001b[0m \u001b[32m━━━━━━━━━━━━━━━━━━━━\u001b[0m\u001b[37m\u001b[0m \u001b[1m2s\u001b[0m 93ms/step - accuracy: 0.5292 - loss: 1.3922 - val_accuracy: 0.6146 - val_loss: 1.4292\n",
            "Epoch 37/100\n",
            "\u001b[1m25/25\u001b[0m \u001b[32m━━━━━━━━━━━━━━━━━━━━\u001b[0m\u001b[37m\u001b[0m \u001b[1m2s\u001b[0m 93ms/step - accuracy: 0.5202 - loss: 1.3901 - val_accuracy: 0.6146 - val_loss: 1.4020\n",
            "Epoch 38/100\n",
            "\u001b[1m25/25\u001b[0m \u001b[32m━━━━━━━━━━━━━━━━━━━━\u001b[0m\u001b[37m\u001b[0m \u001b[1m2s\u001b[0m 89ms/step - accuracy: 0.5225 - loss: 1.3950 - val_accuracy: 0.6042 - val_loss: 1.4302\n",
            "Epoch 39/100\n",
            "\u001b[1m25/25\u001b[0m \u001b[32m━━━━━━━━━━━━━━━━━━━━\u001b[0m\u001b[37m\u001b[0m \u001b[1m2s\u001b[0m 94ms/step - accuracy: 0.5772 - loss: 1.3081 - val_accuracy: 0.6354 - val_loss: 1.4012\n",
            "Epoch 40/100\n",
            "\u001b[1m25/25\u001b[0m \u001b[32m━━━━━━━━━━━━━━━━━━━━\u001b[0m\u001b[37m\u001b[0m \u001b[1m2s\u001b[0m 100ms/step - accuracy: 0.5625 - loss: 1.3231 - val_accuracy: 0.6667 - val_loss: 1.3782\n",
            "Epoch 41/100\n",
            "\u001b[1m25/25\u001b[0m \u001b[32m━━━━━━━━━━━━━━━━━━━━\u001b[0m\u001b[37m\u001b[0m \u001b[1m2s\u001b[0m 95ms/step - accuracy: 0.5383 - loss: 1.3181 - val_accuracy: 0.6667 - val_loss: 1.3755\n",
            "Epoch 42/100\n",
            "\u001b[1m25/25\u001b[0m \u001b[32m━━━━━━━━━━━━━━━━━━━━\u001b[0m\u001b[37m\u001b[0m \u001b[1m3s\u001b[0m 95ms/step - accuracy: 0.5824 - loss: 1.2563 - val_accuracy: 0.6562 - val_loss: 1.3639\n",
            "Epoch 43/100\n",
            "\u001b[1m25/25\u001b[0m \u001b[32m━━━━━━━━━━━━━━━━━━━━\u001b[0m\u001b[37m\u001b[0m \u001b[1m2s\u001b[0m 84ms/step - accuracy: 0.5739 - loss: 1.3062 - val_accuracy: 0.6458 - val_loss: 1.3735\n",
            "Epoch 44/100\n",
            "\u001b[1m25/25\u001b[0m \u001b[32m━━━━━━━━━━━━━━━━━━━━\u001b[0m\u001b[37m\u001b[0m \u001b[1m2s\u001b[0m 85ms/step - accuracy: 0.5982 - loss: 1.2152 - val_accuracy: 0.6562 - val_loss: 1.3728\n",
            "Epoch 45/100\n",
            "\u001b[1m25/25\u001b[0m \u001b[32m━━━━━━━━━━━━━━━━━━━━\u001b[0m\u001b[37m\u001b[0m \u001b[1m3s\u001b[0m 97ms/step - accuracy: 0.5869 - loss: 1.2620 - val_accuracy: 0.6771 - val_loss: 1.3447\n",
            "Epoch 46/100\n",
            "\u001b[1m25/25\u001b[0m \u001b[32m━━━━━━━━━━━━━━━━━━━━\u001b[0m\u001b[37m\u001b[0m \u001b[1m2s\u001b[0m 94ms/step - accuracy: 0.5753 - loss: 1.2786 - val_accuracy: 0.6458 - val_loss: 1.3433\n",
            "Epoch 47/100\n",
            "\u001b[1m25/25\u001b[0m \u001b[32m━━━━━━━━━━━━━━━━━━━━\u001b[0m\u001b[37m\u001b[0m \u001b[1m2s\u001b[0m 89ms/step - accuracy: 0.5780 - loss: 1.2765 - val_accuracy: 0.6562 - val_loss: 1.3168\n",
            "Epoch 48/100\n",
            "\u001b[1m25/25\u001b[0m \u001b[32m━━━━━━━━━━━━━━━━━━━━\u001b[0m\u001b[37m\u001b[0m \u001b[1m2s\u001b[0m 91ms/step - accuracy: 0.6245 - loss: 1.1910 - val_accuracy: 0.6667 - val_loss: 1.3151\n",
            "Epoch 49/100\n",
            "\u001b[1m25/25\u001b[0m \u001b[32m━━━━━━━━━━━━━━━━━━━━\u001b[0m\u001b[37m\u001b[0m \u001b[1m3s\u001b[0m 95ms/step - accuracy: 0.6125 - loss: 1.1973 - val_accuracy: 0.6562 - val_loss: 1.3113\n",
            "Epoch 50/100\n",
            "\u001b[1m25/25\u001b[0m \u001b[32m━━━━━━━━━━━━━━━━━━━━\u001b[0m\u001b[37m\u001b[0m \u001b[1m2s\u001b[0m 98ms/step - accuracy: 0.6286 - loss: 1.1997 - val_accuracy: 0.6667 - val_loss: 1.2979\n",
            "Epoch 51/100\n",
            "\u001b[1m25/25\u001b[0m \u001b[32m━━━━━━━━━━━━━━━━━━━━\u001b[0m\u001b[37m\u001b[0m \u001b[1m2s\u001b[0m 90ms/step - accuracy: 0.6313 - loss: 1.1934 - val_accuracy: 0.6562 - val_loss: 1.3015\n",
            "Epoch 52/100\n",
            "\u001b[1m25/25\u001b[0m \u001b[32m━━━━━━━━━━━━━━━━━━━━\u001b[0m\u001b[37m\u001b[0m \u001b[1m2s\u001b[0m 87ms/step - accuracy: 0.6292 - loss: 1.1661 - val_accuracy: 0.6354 - val_loss: 1.3041\n",
            "Epoch 53/100\n",
            "\u001b[1m25/25\u001b[0m \u001b[32m━━━━━━━━━━━━━━━━━━━━\u001b[0m\u001b[37m\u001b[0m \u001b[1m3s\u001b[0m 91ms/step - accuracy: 0.6614 - loss: 1.1312 - val_accuracy: 0.6875 - val_loss: 1.2873\n",
            "Epoch 54/100\n",
            "\u001b[1m25/25\u001b[0m \u001b[32m━━━━━━━━━━━━━━━━━━━━\u001b[0m\u001b[37m\u001b[0m \u001b[1m2s\u001b[0m 90ms/step - accuracy: 0.6572 - loss: 1.1237 - val_accuracy: 0.6875 - val_loss: 1.2598\n",
            "Epoch 55/100\n",
            "\u001b[1m25/25\u001b[0m \u001b[32m━━━━━━━━━━━━━━━━━━━━\u001b[0m\u001b[37m\u001b[0m \u001b[1m2s\u001b[0m 88ms/step - accuracy: 0.6457 - loss: 1.0874 - val_accuracy: 0.7188 - val_loss: 1.2794\n",
            "Epoch 56/100\n",
            "\u001b[1m25/25\u001b[0m \u001b[32m━━━━━━━━━━━━━━━━━━━━\u001b[0m\u001b[37m\u001b[0m \u001b[1m3s\u001b[0m 91ms/step - accuracy: 0.6655 - loss: 1.1233 - val_accuracy: 0.6667 - val_loss: 1.2605\n",
            "Epoch 57/100\n",
            "\u001b[1m25/25\u001b[0m \u001b[32m━━━━━━━━━━━━━━━━━━━━\u001b[0m\u001b[37m\u001b[0m \u001b[1m2s\u001b[0m 87ms/step - accuracy: 0.6969 - loss: 1.0338 - val_accuracy: 0.6979 - val_loss: 1.2629\n",
            "Epoch 58/100\n",
            "\u001b[1m25/25\u001b[0m \u001b[32m━━━━━━━━━━━━━━━━━━━━\u001b[0m\u001b[37m\u001b[0m \u001b[1m3s\u001b[0m 94ms/step - accuracy: 0.7047 - loss: 1.0408 - val_accuracy: 0.6771 - val_loss: 1.2429\n",
            "Epoch 59/100\n",
            "\u001b[1m25/25\u001b[0m \u001b[32m━━━━━━━━━━━━━━━━━━━━\u001b[0m\u001b[37m\u001b[0m \u001b[1m2s\u001b[0m 91ms/step - accuracy: 0.6589 - loss: 1.0460 - val_accuracy: 0.6458 - val_loss: 1.2409\n",
            "Epoch 60/100\n",
            "\u001b[1m25/25\u001b[0m \u001b[32m━━━━━━━━━━━━━━━━━━━━\u001b[0m\u001b[37m\u001b[0m \u001b[1m2s\u001b[0m 86ms/step - accuracy: 0.6930 - loss: 1.0167 - val_accuracy: 0.6667 - val_loss: 1.2422\n",
            "Epoch 61/100\n",
            "\u001b[1m25/25\u001b[0m \u001b[32m━━━━━━━━━━━━━━━━━━━━\u001b[0m\u001b[37m\u001b[0m \u001b[1m3s\u001b[0m 101ms/step - accuracy: 0.6806 - loss: 1.0456 - val_accuracy: 0.7083 - val_loss: 1.2376\n",
            "Epoch 62/100\n",
            "\u001b[1m25/25\u001b[0m \u001b[32m━━━━━━━━━━━━━━━━━━━━\u001b[0m\u001b[37m\u001b[0m \u001b[1m2s\u001b[0m 90ms/step - accuracy: 0.7018 - loss: 0.9995 - val_accuracy: 0.6667 - val_loss: 1.2355\n",
            "Epoch 63/100\n",
            "\u001b[1m25/25\u001b[0m \u001b[32m━━━━━━━━━━━━━━━━━━━━\u001b[0m\u001b[37m\u001b[0m \u001b[1m2s\u001b[0m 95ms/step - accuracy: 0.6957 - loss: 1.0470 - val_accuracy: 0.6875 - val_loss: 1.2224\n",
            "Epoch 64/100\n",
            "\u001b[1m25/25\u001b[0m \u001b[32m━━━━━━━━━━━━━━━━━━━━\u001b[0m\u001b[37m\u001b[0m \u001b[1m3s\u001b[0m 95ms/step - accuracy: 0.7154 - loss: 0.9987 - val_accuracy: 0.6875 - val_loss: 1.2096\n",
            "Epoch 65/100\n",
            "\u001b[1m25/25\u001b[0m \u001b[32m━━━━━━━━━━━━━━━━━━━━\u001b[0m\u001b[37m\u001b[0m \u001b[1m2s\u001b[0m 83ms/step - accuracy: 0.7209 - loss: 0.9590 - val_accuracy: 0.6979 - val_loss: 1.2278\n",
            "Epoch 66/100\n",
            "\u001b[1m25/25\u001b[0m \u001b[32m━━━━━━━━━━━━━━━━━━━━\u001b[0m\u001b[37m\u001b[0m \u001b[1m3s\u001b[0m 88ms/step - accuracy: 0.7454 - loss: 0.9161 - val_accuracy: 0.6771 - val_loss: 1.2229\n",
            "Epoch 67/100\n",
            "\u001b[1m25/25\u001b[0m \u001b[32m━━━━━━━━━━━━━━━━━━━━\u001b[0m\u001b[37m\u001b[0m \u001b[1m2s\u001b[0m 84ms/step - accuracy: 0.7394 - loss: 0.9148 - val_accuracy: 0.7083 - val_loss: 1.2279\n",
            "Epoch 68/100\n",
            "\u001b[1m25/25\u001b[0m \u001b[32m━━━━━━━━━━━━━━━━━━━━\u001b[0m\u001b[37m\u001b[0m \u001b[1m3s\u001b[0m 82ms/step - accuracy: 0.7388 - loss: 0.9356 - val_accuracy: 0.7396 - val_loss: 1.2175\n",
            "Epoch 69/100\n",
            "\u001b[1m25/25\u001b[0m \u001b[32m━━━━━━━━━━━━━━━━━━━━\u001b[0m\u001b[37m\u001b[0m \u001b[1m3s\u001b[0m 87ms/step - accuracy: 0.7325 - loss: 0.9374 - val_accuracy: 0.6979 - val_loss: 1.2130\n",
            "Epoch 70/100\n",
            "\u001b[1m25/25\u001b[0m \u001b[32m━━━━━━━━━━━━━━━━━━━━\u001b[0m\u001b[37m\u001b[0m \u001b[1m3s\u001b[0m 96ms/step - accuracy: 0.7195 - loss: 0.9661 - val_accuracy: 0.7083 - val_loss: 1.1964\n",
            "Epoch 71/100\n",
            "\u001b[1m25/25\u001b[0m \u001b[32m━━━━━━━━━━━━━━━━━━━━\u001b[0m\u001b[37m\u001b[0m \u001b[1m2s\u001b[0m 89ms/step - accuracy: 0.7569 - loss: 0.8836 - val_accuracy: 0.7083 - val_loss: 1.2244\n",
            "Epoch 72/100\n",
            "\u001b[1m25/25\u001b[0m \u001b[32m━━━━━━━━━━━━━━━━━━━━\u001b[0m\u001b[37m\u001b[0m \u001b[1m3s\u001b[0m 91ms/step - accuracy: 0.7296 - loss: 0.9234 - val_accuracy: 0.7188 - val_loss: 1.1946\n",
            "Epoch 73/100\n",
            "\u001b[1m25/25\u001b[0m \u001b[32m━━━━━━━━━━━━━━━━━━━━\u001b[0m\u001b[37m\u001b[0m \u001b[1m2s\u001b[0m 88ms/step - accuracy: 0.7757 - loss: 0.8857 - val_accuracy: 0.7188 - val_loss: 1.1961\n",
            "Epoch 74/100\n",
            "\u001b[1m25/25\u001b[0m \u001b[32m━━━━━━━━━━━━━━━━━━━━\u001b[0m\u001b[37m\u001b[0m \u001b[1m3s\u001b[0m 91ms/step - accuracy: 0.7316 - loss: 0.9126 - val_accuracy: 0.7292 - val_loss: 1.1889\n",
            "Epoch 75/100\n",
            "\u001b[1m25/25\u001b[0m \u001b[32m━━━━━━━━━━━━━━━━━━━━\u001b[0m\u001b[37m\u001b[0m \u001b[1m3s\u001b[0m 95ms/step - accuracy: 0.7565 - loss: 0.8705 - val_accuracy: 0.7292 - val_loss: 1.1809\n",
            "Epoch 76/100\n",
            "\u001b[1m25/25\u001b[0m \u001b[32m━━━━━━━━━━━━━━━━━━━━\u001b[0m\u001b[37m\u001b[0m \u001b[1m2s\u001b[0m 97ms/step - accuracy: 0.7474 - loss: 0.8787 - val_accuracy: 0.7188 - val_loss: 1.1693\n",
            "Epoch 77/100\n",
            "\u001b[1m25/25\u001b[0m \u001b[32m━━━━━━━━━━━━━━━━━━━━\u001b[0m\u001b[37m\u001b[0m \u001b[1m2s\u001b[0m 87ms/step - accuracy: 0.7786 - loss: 0.8464 - val_accuracy: 0.6979 - val_loss: 1.1817\n",
            "Epoch 78/100\n",
            "\u001b[1m25/25\u001b[0m \u001b[32m━━━━━━━━━━━━━━━━━━━━\u001b[0m\u001b[37m\u001b[0m \u001b[1m2s\u001b[0m 83ms/step - accuracy: 0.7660 - loss: 0.8127 - val_accuracy: 0.7083 - val_loss: 1.1816\n",
            "Epoch 79/100\n",
            "\u001b[1m25/25\u001b[0m \u001b[32m━━━━━━━━━━━━━━━━━━━━\u001b[0m\u001b[37m\u001b[0m \u001b[1m2s\u001b[0m 84ms/step - accuracy: 0.7674 - loss: 0.8197 - val_accuracy: 0.7292 - val_loss: 1.1791\n",
            "Epoch 80/100\n",
            "\u001b[1m25/25\u001b[0m \u001b[32m━━━━━━━━━━━━━━━━━━━━\u001b[0m\u001b[37m\u001b[0m \u001b[1m2s\u001b[0m 83ms/step - accuracy: 0.7724 - loss: 0.7990 - val_accuracy: 0.7188 - val_loss: 1.1767\n",
            "Epoch 81/100\n",
            "\u001b[1m25/25\u001b[0m \u001b[32m━━━━━━━━━━━━━━━━━━━━\u001b[0m\u001b[37m\u001b[0m \u001b[1m2s\u001b[0m 93ms/step - accuracy: 0.7808 - loss: 0.7803 - val_accuracy: 0.7188 - val_loss: 1.1629\n",
            "Epoch 82/100\n",
            "\u001b[1m25/25\u001b[0m \u001b[32m━━━━━━━━━━━━━━━━━━━━\u001b[0m\u001b[37m\u001b[0m \u001b[1m3s\u001b[0m 96ms/step - accuracy: 0.7841 - loss: 0.8109 - val_accuracy: 0.7292 - val_loss: 1.1532\n",
            "Epoch 83/100\n",
            "\u001b[1m25/25\u001b[0m \u001b[32m━━━━━━━━━━━━━━━━━━━━\u001b[0m\u001b[37m\u001b[0m \u001b[1m2s\u001b[0m 83ms/step - accuracy: 0.8116 - loss: 0.7416 - val_accuracy: 0.7500 - val_loss: 1.1686\n",
            "Epoch 84/100\n",
            "\u001b[1m25/25\u001b[0m \u001b[32m━━━━━━━━━━━━━━━━━━━━\u001b[0m\u001b[37m\u001b[0m \u001b[1m2s\u001b[0m 91ms/step - accuracy: 0.7888 - loss: 0.7593 - val_accuracy: 0.7188 - val_loss: 1.1399\n",
            "Epoch 85/100\n",
            "\u001b[1m25/25\u001b[0m \u001b[32m━━━━━━━━━━━━━━━━━━━━\u001b[0m\u001b[37m\u001b[0m \u001b[1m2s\u001b[0m 82ms/step - accuracy: 0.8196 - loss: 0.7508 - val_accuracy: 0.7292 - val_loss: 1.1592\n",
            "Epoch 86/100\n",
            "\u001b[1m25/25\u001b[0m \u001b[32m━━━━━━━━━━━━━━━━━━━━\u001b[0m\u001b[37m\u001b[0m \u001b[1m2s\u001b[0m 87ms/step - accuracy: 0.8024 - loss: 0.7841 - val_accuracy: 0.7188 - val_loss: 1.1799\n",
            "Epoch 87/100\n",
            "\u001b[1m25/25\u001b[0m \u001b[32m━━━━━━━━━━━━━━━━━━━━\u001b[0m\u001b[37m\u001b[0m \u001b[1m3s\u001b[0m 92ms/step - accuracy: 0.7977 - loss: 0.7553 - val_accuracy: 0.7188 - val_loss: 1.1660\n",
            "Epoch 88/100\n",
            "\u001b[1m25/25\u001b[0m \u001b[32m━━━━━━━━━━━━━━━━━━━━\u001b[0m\u001b[37m\u001b[0m \u001b[1m2s\u001b[0m 88ms/step - accuracy: 0.8311 - loss: 0.7139 - val_accuracy: 0.7188 - val_loss: 1.1840\n",
            "Epoch 89/100\n",
            "\u001b[1m25/25\u001b[0m \u001b[32m━━━━━━━━━━━━━━━━━━━━\u001b[0m\u001b[37m\u001b[0m \u001b[1m2s\u001b[0m 85ms/step - accuracy: 0.7789 - loss: 0.7873 - val_accuracy: 0.7292 - val_loss: 1.1548\n",
            "Epoch 90/100\n",
            "\u001b[1m25/25\u001b[0m \u001b[32m━━━━━━━━━━━━━━━━━━━━\u001b[0m\u001b[37m\u001b[0m \u001b[1m2s\u001b[0m 85ms/step - accuracy: 0.8328 - loss: 0.6815 - val_accuracy: 0.7396 - val_loss: 1.1647\n",
            "Epoch 91/100\n",
            "\u001b[1m25/25\u001b[0m \u001b[32m━━━━━━━━━━━━━━━━━━━━\u001b[0m\u001b[37m\u001b[0m \u001b[1m3s\u001b[0m 95ms/step - accuracy: 0.8072 - loss: 0.7255 - val_accuracy: 0.7292 - val_loss: 1.1318\n",
            "Epoch 92/100\n",
            "\u001b[1m25/25\u001b[0m \u001b[32m━━━━━━━━━━━━━━━━━━━━\u001b[0m\u001b[37m\u001b[0m \u001b[1m2s\u001b[0m 91ms/step - accuracy: 0.8269 - loss: 0.6797 - val_accuracy: 0.7396 - val_loss: 1.1471\n",
            "Epoch 93/100\n",
            "\u001b[1m25/25\u001b[0m \u001b[32m━━━━━━━━━━━━━━━━━━━━\u001b[0m\u001b[37m\u001b[0m \u001b[1m2s\u001b[0m 87ms/step - accuracy: 0.8475 - loss: 0.6622 - val_accuracy: 0.7292 - val_loss: 1.1610\n",
            "Epoch 94/100\n",
            "\u001b[1m25/25\u001b[0m \u001b[32m━━━━━━━━━━━━━━━━━━━━\u001b[0m\u001b[37m\u001b[0m \u001b[1m2s\u001b[0m 82ms/step - accuracy: 0.8521 - loss: 0.6776 - val_accuracy: 0.7396 - val_loss: 1.1379\n",
            "Epoch 95/100\n",
            "\u001b[1m25/25\u001b[0m \u001b[32m━━━━━━━━━━━━━━━━━━━━\u001b[0m\u001b[37m\u001b[0m \u001b[1m3s\u001b[0m 83ms/step - accuracy: 0.8239 - loss: 0.7093 - val_accuracy: 0.7396 - val_loss: 1.1354\n",
            "Epoch 96/100\n",
            "\u001b[1m25/25\u001b[0m \u001b[32m━━━━━━━━━━━━━━━━━━━━\u001b[0m\u001b[37m\u001b[0m \u001b[1m3s\u001b[0m 92ms/step - accuracy: 0.8213 - loss: 0.6569 - val_accuracy: 0.7188 - val_loss: 1.1275\n",
            "Epoch 97/100\n",
            "\u001b[1m25/25\u001b[0m \u001b[32m━━━━━━━━━━━━━━━━━━━━\u001b[0m\u001b[37m\u001b[0m \u001b[1m2s\u001b[0m 83ms/step - accuracy: 0.8195 - loss: 0.6824 - val_accuracy: 0.7292 - val_loss: 1.1287\n",
            "Epoch 98/100\n",
            "\u001b[1m25/25\u001b[0m \u001b[32m━━━━━━━━━━━━━━━━━━━━\u001b[0m\u001b[37m\u001b[0m \u001b[1m2s\u001b[0m 91ms/step - accuracy: 0.8360 - loss: 0.6670 - val_accuracy: 0.7188 - val_loss: 1.1461\n",
            "Epoch 99/100\n",
            "\u001b[1m25/25\u001b[0m \u001b[32m━━━━━━━━━━━━━━━━━━━━\u001b[0m\u001b[37m\u001b[0m \u001b[1m2s\u001b[0m 83ms/step - accuracy: 0.8772 - loss: 0.6451 - val_accuracy: 0.7292 - val_loss: 1.1301\n",
            "Epoch 100/100\n",
            "\u001b[1m25/25\u001b[0m \u001b[32m━━━━━━━━━━━━━━━━━━━━\u001b[0m\u001b[37m\u001b[0m \u001b[1m3s\u001b[0m 82ms/step - accuracy: 0.8506 - loss: 0.6215 - val_accuracy: 0.7292 - val_loss: 1.1417\n",
            "\u001b[1m4/4\u001b[0m \u001b[32m━━━━━━━━━━━━━━━━━━━━\u001b[0m\u001b[37m\u001b[0m \u001b[1m9s\u001b[0m 3s/step - accuracy: 0.7374 - loss: 1.1494\n",
            "Test Accuracy: 0.72\n"
          ]
        }
      ]
    },
    {
      "cell_type": "code",
      "source": [
        "def evaluate_model(dataset, model):\n",
        "    y_true = []\n",
        "    y_pred = []\n",
        "\n",
        "    for images, labels in dataset:\n",
        "        preds = model.predict(images)\n",
        "        pred_labels = np.argmax(preds, axis=-1)\n",
        "\n",
        "        y_true.extend(labels.numpy())\n",
        "        y_pred.extend(pred_labels)\n",
        "\n",
        "\n",
        "    y_true = np.array(y_true)\n",
        "    y_pred = np.array(y_pred)\n",
        "\n",
        "    accuracy = accuracy_score(y_true, y_pred)\n",
        "    precision = precision_score(y_true, y_pred,average='weighted')\n",
        "    recall = recall_score(y_true, y_pred,average='weighted')\n",
        "    f1 = f1_score(y_true, y_pred,average='weighted')\n",
        "    cm = confusion_matrix(y_true, y_pred)\n",
        "\n",
        "    return accuracy, precision, recall, f1, cm"
      ],
      "metadata": {
        "id": "ZqS3tW6t0akL"
      },
      "execution_count": null,
      "outputs": []
    },
    {
      "cell_type": "code",
      "source": [
        "test_acc, test_precision, test_recall, test_f1, cm = evaluate_model(test_data, model)\n",
        "\n",
        "print(f\"Test Accuracy: {test_acc:.4f}\")\n",
        "print(f\"Test Precision: {test_precision:.4f}\")\n",
        "print(f\"Test Recall: {test_recall:.4f}\")\n",
        "print(f\"Test F1-Score: {test_f1:.4f}\")"
      ],
      "metadata": {
        "id": "FEgNPNYs0bub",
        "colab": {
          "base_uri": "https://localhost:8080/"
        },
        "outputId": "6bf038cd-5209-463b-c1c2-8d1c8be5491e"
      },
      "execution_count": null,
      "outputs": [
        {
          "output_type": "stream",
          "name": "stdout",
          "text": [
            "\u001b[1m1/1\u001b[0m \u001b[32m━━━━━━━━━━━━━━━━━━━━\u001b[0m\u001b[37m\u001b[0m \u001b[1m7s\u001b[0m 7s/step\n",
            "\u001b[1m1/1\u001b[0m \u001b[32m━━━━━━━━━━━━━━━━━━━━\u001b[0m\u001b[37m\u001b[0m \u001b[1m0s\u001b[0m 41ms/step\n",
            "\u001b[1m1/1\u001b[0m \u001b[32m━━━━━━━━━━━━━━━━━━━━\u001b[0m\u001b[37m\u001b[0m \u001b[1m0s\u001b[0m 43ms/step\n",
            "\u001b[1m1/1\u001b[0m \u001b[32m━━━━━━━━━━━━━━━━━━━━\u001b[0m\u001b[37m\u001b[0m \u001b[1m8s\u001b[0m 8s/step\n",
            "Test Accuracy: 0.7212\n",
            "Test Precision: 0.7352\n",
            "Test Recall: 0.7212\n",
            "Test F1-Score: 0.7165\n"
          ]
        }
      ]
    },
    {
      "cell_type": "code",
      "source": [
        "plt.figure(figsize=(10, 8))\n",
        "disp = ConfusionMatrixDisplay(confusion_matrix=cm)\n",
        "disp.plot(cmap=plt.cm.Blues)\n",
        "plt.title('Confusion Matrix')\n",
        "plt.show()"
      ],
      "metadata": {
        "id": "N8P1l1kJ0tR0",
        "colab": {
          "base_uri": "https://localhost:8080/",
          "height": 489
        },
        "outputId": "2df2709d-267c-42fe-c967-2e683000173d"
      },
      "execution_count": null,
      "outputs": [
        {
          "output_type": "display_data",
          "data": {
            "text/plain": [
              "<Figure size 1000x800 with 0 Axes>"
            ]
          },
          "metadata": {}
        },
        {
          "output_type": "display_data",
          "data": {
            "text/plain": [
              "<Figure size 640x480 with 2 Axes>"
            ],
            "image/png": "[encoded data removed]"
          },
          "metadata": {}
        }
      ]
    }
  ]
}