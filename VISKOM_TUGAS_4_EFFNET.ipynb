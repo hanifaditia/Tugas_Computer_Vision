{
  "nbformat": 4,
  "nbformat_minor": 0,
  "metadata": {
    "colab": {
      "provenance": [],
      "gpuType": "T4"
    },
    "kernelspec": {
      "name": "python3",
      "display_name": "Python 3"
    },
    "language_info": {
      "name": "python"
    },
    "accelerator": "GPU"
  },
  "cells": [
    {
      "cell_type": "code",
      "source": [
        "import tensorflow as tf\n",
        "from tensorflow.keras.preprocessing.image import ImageDataGenerator\n",
        "from sklearn.model_selection import train_test_split\n",
        "from tensorflow.keras import layers, models\n",
        "from tensorflow.keras.applications import EfficientNetB0\n",
        "import numpy as np\n",
        "from sklearn.metrics import precision_score, recall_score, f1_score, accuracy_score, confusion_matrix, ConfusionMatrixDisplay\n",
        "import matplotlib.pyplot as plt\n",
        "from skimage.restoration import denoise_tv_chambolle\n",
        "from scipy.ndimage import median_filter\n",
        "import cv2\n",
        "from tensorflow.keras.applications import EfficientNetB0\n",
        "from tensorflow.keras import layers, Model\n",
        "from tensorflow.keras.callbacks import EarlyStopping"
      ],
      "metadata": {
        "id": "6Wr8i7dHq7v5"
      },
      "execution_count": null,
      "outputs": []
    },
    {
      "cell_type": "code",
      "execution_count": null,
      "metadata": {
        "id": "sT2FGK2bqyRU",
        "colab": {
          "base_uri": "https://localhost:8080/"
        },
        "outputId": "802f97b4-d956-422f-bc08-e5bf330f5db9"
      },
      "outputs": [
        {
          "output_type": "stream",
          "name": "stdout",
          "text": [
            "/usr/local/lib/python3.10/dist-packages/gdown/__main__.py:140: FutureWarning: Option `--id` was deprecated in version 4.3.1 and will be removed in 5.0. You don't need to pass it anymore to use a file ID.\n",
            "  warnings.warn(\n",
            "Downloading...\n",
            "From (original): https://drive.google.com/uc?id=12DWmjL6LNLsNye-3o-il-Hw4GDgu6yOh\n",
            "From (redirected): https://drive.google.com/uc?id=12DWmjL6LNLsNye-3o-il-Hw4GDgu6yOh&confirm=t&uuid=2d3cedc4-eda5-4e3d-864f-e2199069e42c\n",
            "To: /content/Dataset5000.zip\n",
            "100% 590M/590M [00:11<00:00, 52.0MB/s]\n"
          ]
        }
      ],
      "source": [
        "!gdown --id 12DWmjL6LNLsNye-3o-il-Hw4GDgu6yOh\n",
        "!unzip -q /content/Dataset5000.zip -d /content/dataset"
      ]
    },
    {
      "cell_type": "code",
      "source": [
        "import os\n",
        "import shutil\n",
        "import tensorflow as tf\n",
        "\n",
        "# Define your dataset path\n",
        "dataset_path = \"/content/dataset/Dataset5000\"\n",
        "output_path = \"/content/dataset/selected_images\"\n",
        "\n",
        "# Create output directories\n",
        "if not os.path.exists(output_path):\n",
        "    os.makedirs(output_path)\n",
        "\n",
        "# Load the dataset\n",
        "dataset = tf.keras.preprocessing.image_dataset_from_directory(\n",
        "    dataset_path,\n",
        "    image_size=(224, 224),\n",
        "    batch_size=64,\n",
        "    label_mode='int',\n",
        "    shuffle=True,\n",
        "    seed=42\n",
        ")\n",
        "\n",
        "# Get class names\n",
        "class_names = dataset.class_names\n",
        "\n",
        "# Process each class\n",
        "for class_index, class_name in enumerate(class_names):\n",
        "    class_folder = os.path.join(output_path, class_name)\n",
        "    if not os.path.exists(class_folder):\n",
        "        os.makedirs(class_folder)\n",
        "\n",
        "    # Track the number of images copied\n",
        "    count = 0\n",
        "\n",
        "    for images, labels in dataset:\n",
        "        for i in range(images.shape[0]):\n",
        "            if count < 100 and labels[i].numpy() == class_index:\n",
        "                # Save the image\n",
        "                img = tf.keras.preprocessing.image.array_to_img(images[i])\n",
        "                img.save(os.path.join(class_folder, f\"{class_name}_{count}.jpg\"))\n",
        "                count += 1\n",
        "\n",
        "            if count >= 100:\n",
        "                break\n",
        "\n",
        "        if count >= 100:\n",
        "            break\n",
        "\n",
        "print(\"Images have been saved.\")\n"
      ],
      "metadata": {
        "id": "7CTtSXOwq9u1",
        "colab": {
          "base_uri": "https://localhost:8080/"
        },
        "outputId": "24054cfd-0162-4494-8f5c-da78bf3b7476"
      },
      "execution_count": null,
      "outputs": [
        {
          "output_type": "stream",
          "name": "stdout",
          "text": [
            "Found 5968 files belonging to 10 classes.\n",
            "Images have been saved.\n"
          ]
        }
      ]
    },
    {
      "cell_type": "code",
      "source": [
        "dataset1000 = tf.keras.preprocessing.image_dataset_from_directory(\n",
        "    \"/content/dataset/selected_images\",\n",
        "    image_size=(224, 224),\n",
        "    batch_size=32,\n",
        "    label_mode='int',\n",
        "    shuffle=True,\n",
        "    seed=42\n",
        ")\n"
      ],
      "metadata": {
        "id": "YoMKnlQEvT9w",
        "colab": {
          "base_uri": "https://localhost:8080/"
        },
        "outputId": "3f533d2b-e174-4b88-b103-96fe86ad64c0"
      },
      "execution_count": null,
      "outputs": [
        {
          "output_type": "stream",
          "name": "stdout",
          "text": [
            "Found 1000 files belonging to 10 classes.\n"
          ]
        }
      ]
    },
    {
      "cell_type": "code",
      "source": [
        "\n",
        "num_batches = tf.data.experimental.cardinality(dataset1000).numpy()\n",
        "\n",
        "train_size = int(0.8 * num_batches)\n",
        "val_size = int(0.1 * num_batches)\n",
        "test_size = num_batches - train_size - val_size\n",
        "\n",
        "\n",
        "train_dataset = dataset1000.take(train_size)\n",
        "val_dataset = dataset1000.skip(train_size).take(val_size)\n",
        "test_dataset = dataset1000.skip(train_size + val_size)"
      ],
      "metadata": {
        "id": "7ZuExOg7uTTN"
      },
      "execution_count": null,
      "outputs": []
    },
    {
      "cell_type": "code",
      "source": [
        "\n",
        "class_counts = {}\n",
        "\n",
        "for images, labels in test_dataset:\n",
        "    for label in labels.numpy():\n",
        "        if label in class_counts:\n",
        "            class_counts[label] += 1\n",
        "        else:\n",
        "            class_counts[label] = 1\n",
        "\n",
        "\n",
        "class_counts = dict(sorted(class_counts.items()))\n",
        "\n",
        "\n",
        "for class_label, count in class_counts.items():\n",
        "    print(f'Class {class_label}: {count} samples')"
      ],
      "metadata": {
        "id": "u8dhoyZmvhQI",
        "colab": {
          "base_uri": "https://localhost:8080/"
        },
        "outputId": "d4fb9049-daa6-431d-e0fa-889f3d5c6708"
      },
      "execution_count": null,
      "outputs": [
        {
          "output_type": "stream",
          "name": "stdout",
          "text": [
            "Class 0: 6 samples\n",
            "Class 1: 10 samples\n",
            "Class 2: 13 samples\n",
            "Class 3: 6 samples\n",
            "Class 4: 14 samples\n",
            "Class 5: 8 samples\n",
            "Class 6: 11 samples\n",
            "Class 7: 11 samples\n",
            "Class 8: 14 samples\n",
            "Class 9: 11 samples\n"
          ]
        }
      ]
    },
    {
      "cell_type": "code",
      "source": [
        "import tensorflow as tf\n",
        "import os\n",
        "\n",
        "output_dir = \"output_data\"\n",
        "train_dir = os.path.join(output_dir, \"train\")\n",
        "val_dir = os.path.join(output_dir, \"val\")\n",
        "test_dir = os.path.join(output_dir, \"test\")\n",
        "\n",
        "\n",
        "os.makedirs(train_dir, exist_ok=True)\n",
        "os.makedirs(val_dir, exist_ok=True)\n",
        "os.makedirs(test_dir, exist_ok=True)\n",
        "\n",
        "def save_dataset(dataset, output_path):\n",
        "    class_counts = {}\n",
        "    for i, (images, labels) in enumerate(dataset):\n",
        "        for j in range(images.shape[0]):\n",
        "            label = labels[j].numpy()\n",
        "            label_dir = os.path.join(output_path, str(label))\n",
        "            os.makedirs(label_dir, exist_ok=True)\n",
        "\n",
        "            class_counts[label] = class_counts.get(label, 0) + 1\n",
        "\n",
        "            img_path = os.path.join(label_dir, f\"img_{i}_{j}.jpg\")\n",
        "            tf.keras.utils.save_img(img_path, images[j].numpy())\n",
        "    print(f\"Saved data to {output_path}\")\n",
        "    for class_label, count in class_counts.items():\n",
        "        print(f\"Class {class_label}: {count} samples\")\n",
        "\n",
        "\n",
        "save_dataset(train_dataset, train_dir)\n",
        "save_dataset(val_dataset, val_dir)\n",
        "save_dataset(test_dataset, test_dir)\n"
      ],
      "metadata": {
        "id": "8zAMs64axyyQ",
        "colab": {
          "base_uri": "https://localhost:8080/"
        },
        "outputId": "f54c6867-3ec5-4754-e58b-f36c6fed54d8"
      },
      "execution_count": null,
      "outputs": [
        {
          "output_type": "stream",
          "name": "stdout",
          "text": [
            "Saved data to output_data/train\n",
            "Class 0: 81 samples\n",
            "Class 4: 75 samples\n",
            "Class 7: 74 samples\n",
            "Class 9: 84 samples\n",
            "Class 5: 77 samples\n",
            "Class 8: 73 samples\n",
            "Class 2: 84 samples\n",
            "Class 3: 85 samples\n",
            "Class 1: 82 samples\n",
            "Class 6: 85 samples\n",
            "Saved data to output_data/val\n",
            "Class 9: 10 samples\n",
            "Class 8: 14 samples\n",
            "Class 6: 11 samples\n",
            "Class 0: 7 samples\n",
            "Class 2: 8 samples\n",
            "Class 4: 10 samples\n",
            "Class 3: 13 samples\n",
            "Class 1: 8 samples\n",
            "Class 5: 7 samples\n",
            "Class 7: 8 samples\n",
            "Saved data to output_data/test\n",
            "Class 9: 11 samples\n",
            "Class 6: 12 samples\n",
            "Class 2: 6 samples\n",
            "Class 0: 12 samples\n",
            "Class 8: 8 samples\n",
            "Class 3: 9 samples\n",
            "Class 7: 14 samples\n",
            "Class 1: 11 samples\n",
            "Class 5: 13 samples\n",
            "Class 4: 8 samples\n"
          ]
        }
      ]
    },
    {
      "cell_type": "markdown",
      "source": [
        "# PREPROCESSING"
      ],
      "metadata": {
        "id": "LL9RcNUUrNOT"
      }
    },
    {
      "cell_type": "code",
      "source": [
        "# LOAD AND RESIZE TO 224x224\n",
        "train_data = tf.keras.preprocessing.image_dataset_from_directory(\n",
        "    \"/content/output_data/train\",\n",
        "    image_size=(224, 224),\n",
        "    batch_size=32,\n",
        "    label_mode='int',\n",
        "    shuffle=True,\n",
        "    seed=42\n",
        ")\n",
        "\n",
        "val_data = tf.keras.preprocessing.image_dataset_from_directory(\n",
        "    \"/content/output_data/val\",\n",
        "    image_size=(224, 224),\n",
        "    batch_size=32,\n",
        "    label_mode='int',\n",
        "    shuffle=True,\n",
        "    seed=42\n",
        ")\n",
        "\n",
        "test_data = tf.keras.preprocessing.image_dataset_from_directory(\n",
        "    \"/content/output_data/test\",\n",
        "    image_size=(224, 224),\n",
        "    batch_size=32,\n",
        "    label_mode='int',\n",
        "    shuffle=False,\n",
        "    seed=42\n",
        ")"
      ],
      "metadata": {
        "id": "0fv8Mm4g6jYS",
        "colab": {
          "base_uri": "https://localhost:8080/"
        },
        "outputId": "977e2898-66ed-4bfa-9eb6-d3ab96e6fa3b"
      },
      "execution_count": null,
      "outputs": [
        {
          "output_type": "stream",
          "name": "stdout",
          "text": [
            "Found 800 files belonging to 10 classes.\n",
            "Found 96 files belonging to 10 classes.\n",
            "Found 104 files belonging to 10 classes.\n"
          ]
        }
      ]
    },
    {
      "cell_type": "markdown",
      "source": [
        "# MODEL"
      ],
      "metadata": {
        "id": "3k6z7O5RrzfM"
      }
    },
    {
      "cell_type": "code",
      "source": [
        "base_model = EfficientNetB0(include_top=False, weights=\"imagenet\", input_shape=(224, 224, 3))\n",
        "base_model.trainable = False\n",
        "model = models.Sequential([\n",
        "    base_model,\n",
        "    layers.GlobalAveragePooling2D(),\n",
        "    layers.Dense(512, activation='relu'),\n",
        "    layers.Dropout(0.5),\n",
        "    layers.Dense(10, activation='softmax')\n",
        "])\n",
        "\n",
        "\n",
        "model.compile(\n",
        "    optimizer=tf.keras.optimizers.Adam(learning_rate=0.0001),\n",
        "    loss='sparse_categorical_crossentropy',\n",
        "    metrics=['accuracy']\n",
        ")"
      ],
      "metadata": {
        "id": "q0rwRr24r0CZ",
        "colab": {
          "base_uri": "https://localhost:8080/"
        },
        "outputId": "5d1e5269-a763-4f2b-bcb9-89635b197d92"
      },
      "execution_count": null,
      "outputs": [
        {
          "output_type": "stream",
          "name": "stdout",
          "text": [
            "Downloading data from https://storage.googleapis.com/keras-applications/efficientnetb0_notop.h5\n",
            "\u001b[1m16705208/16705208\u001b[0m \u001b[32m━━━━━━━━━━━━━━━━━━━━\u001b[0m\u001b[37m\u001b[0m \u001b[1m0s\u001b[0m 0us/step\n"
          ]
        }
      ]
    },
    {
      "cell_type": "code",
      "source": [
        "early_stopping = EarlyStopping(\n",
        "    monitor='val_loss',\n",
        "    patience=10,\n",
        "    restore_best_weights=True\n",
        ")\n",
        "\n",
        "history = model.fit(\n",
        "    train_data,\n",
        "    validation_data=val_data,\n",
        "    epochs=100,\n",
        "    batch_size=32,\n",
        "    callbacks=[early_stopping]\n",
        ")\n",
        "\n",
        "# Evaluate on test dataset\n",
        "test_loss, test_accuracy = model.evaluate(test_data)\n",
        "print(f\"Test Accuracy: {test_accuracy:.2f}\")"
      ],
      "metadata": {
        "id": "QvPbsbhZweko",
        "colab": {
          "base_uri": "https://localhost:8080/"
        },
        "outputId": "5a472eda-820f-49a1-971a-31b022c067e2"
      },
      "execution_count": null,
      "outputs": [
        {
          "output_type": "stream",
          "name": "stdout",
          "text": [
            "Epoch 1/100\n",
            "\u001b[1m25/25\u001b[0m \u001b[32m━━━━━━━━━━━━━━━━━━━━\u001b[0m\u001b[37m\u001b[0m \u001b[1m31s\u001b[0m 338ms/step - accuracy: 0.1134 - loss: 2.3545 - val_accuracy: 0.3229 - val_loss: 2.0902\n",
            "Epoch 2/100\n",
            "\u001b[1m25/25\u001b[0m \u001b[32m━━━━━━━━━━━━━━━━━━━━\u001b[0m\u001b[37m\u001b[0m \u001b[1m20s\u001b[0m 47ms/step - accuracy: 0.2482 - loss: 2.1344 - val_accuracy: 0.3542 - val_loss: 1.9349\n",
            "Epoch 3/100\n",
            "\u001b[1m25/25\u001b[0m \u001b[32m━━━━━━━━━━━━━━━━━━━━\u001b[0m\u001b[37m\u001b[0m \u001b[1m1s\u001b[0m 44ms/step - accuracy: 0.3046 - loss: 1.9818 - val_accuracy: 0.4167 - val_loss: 1.8261\n",
            "Epoch 4/100\n",
            "\u001b[1m25/25\u001b[0m \u001b[32m━━━━━━━━━━━━━━━━━━━━\u001b[0m\u001b[37m\u001b[0m \u001b[1m1s\u001b[0m 48ms/step - accuracy: 0.3824 - loss: 1.8564 - val_accuracy: 0.4583 - val_loss: 1.7540\n",
            "Epoch 5/100\n",
            "\u001b[1m25/25\u001b[0m \u001b[32m━━━━━━━━━━━━━━━━━━━━\u001b[0m\u001b[37m\u001b[0m \u001b[1m1s\u001b[0m 50ms/step - accuracy: 0.4003 - loss: 1.7966 - val_accuracy: 0.4896 - val_loss: 1.6945\n",
            "Epoch 6/100\n",
            "\u001b[1m25/25\u001b[0m \u001b[32m━━━━━━━━━━━━━━━━━━━━\u001b[0m\u001b[37m\u001b[0m \u001b[1m1s\u001b[0m 45ms/step - accuracy: 0.3957 - loss: 1.7589 - val_accuracy: 0.5104 - val_loss: 1.6584\n",
            "Epoch 7/100\n",
            "\u001b[1m25/25\u001b[0m \u001b[32m━━━━━━━━━━━━━━━━━━━━\u001b[0m\u001b[37m\u001b[0m \u001b[1m1s\u001b[0m 44ms/step - accuracy: 0.4336 - loss: 1.6925 - val_accuracy: 0.5312 - val_loss: 1.6140\n",
            "Epoch 8/100\n",
            "\u001b[1m25/25\u001b[0m \u001b[32m━━━━━━━━━━━━━━━━━━━━\u001b[0m\u001b[37m\u001b[0m \u001b[1m1s\u001b[0m 44ms/step - accuracy: 0.4695 - loss: 1.6073 - val_accuracy: 0.5208 - val_loss: 1.5743\n",
            "Epoch 9/100\n",
            "\u001b[1m25/25\u001b[0m \u001b[32m━━━━━━━━━━━━━━━━━━━━\u001b[0m\u001b[37m\u001b[0m \u001b[1m1s\u001b[0m 43ms/step - accuracy: 0.4811 - loss: 1.5919 - val_accuracy: 0.5312 - val_loss: 1.5454\n",
            "Epoch 10/100\n",
            "\u001b[1m25/25\u001b[0m \u001b[32m━━━━━━━━━━━━━━━━━━━━\u001b[0m\u001b[37m\u001b[0m \u001b[1m1s\u001b[0m 43ms/step - accuracy: 0.4992 - loss: 1.5378 - val_accuracy: 0.5625 - val_loss: 1.5198\n",
            "Epoch 11/100\n",
            "\u001b[1m25/25\u001b[0m \u001b[32m━━━━━━━━━━━━━━━━━━━━\u001b[0m\u001b[37m\u001b[0m \u001b[1m1s\u001b[0m 42ms/step - accuracy: 0.5202 - loss: 1.5034 - val_accuracy: 0.5729 - val_loss: 1.4933\n",
            "Epoch 12/100\n",
            "\u001b[1m25/25\u001b[0m \u001b[32m━━━━━━━━━━━━━━━━━━━━\u001b[0m\u001b[37m\u001b[0m \u001b[1m1s\u001b[0m 43ms/step - accuracy: 0.5536 - loss: 1.4139 - val_accuracy: 0.5729 - val_loss: 1.4594\n",
            "Epoch 13/100\n",
            "\u001b[1m25/25\u001b[0m \u001b[32m━━━━━━━━━━━━━━━━━━━━\u001b[0m\u001b[37m\u001b[0m \u001b[1m1s\u001b[0m 43ms/step - accuracy: 0.5684 - loss: 1.3957 - val_accuracy: 0.5938 - val_loss: 1.4496\n",
            "Epoch 14/100\n",
            "\u001b[1m25/25\u001b[0m \u001b[32m━━━━━━━━━━━━━━━━━━━━\u001b[0m\u001b[37m\u001b[0m \u001b[1m1s\u001b[0m 42ms/step - accuracy: 0.5580 - loss: 1.3997 - val_accuracy: 0.5833 - val_loss: 1.4192\n",
            "Epoch 15/100\n",
            "\u001b[1m25/25\u001b[0m \u001b[32m━━━━━━━━━━━━━━━━━━━━\u001b[0m\u001b[37m\u001b[0m \u001b[1m1s\u001b[0m 47ms/step - accuracy: 0.5714 - loss: 1.3664 - val_accuracy: 0.5729 - val_loss: 1.3927\n",
            "Epoch 16/100\n",
            "\u001b[1m25/25\u001b[0m \u001b[32m━━━━━━━━━━━━━━━━━━━━\u001b[0m\u001b[37m\u001b[0m \u001b[1m1s\u001b[0m 49ms/step - accuracy: 0.5997 - loss: 1.3305 - val_accuracy: 0.5938 - val_loss: 1.3870\n",
            "Epoch 17/100\n",
            "\u001b[1m25/25\u001b[0m \u001b[32m━━━━━━━━━━━━━━━━━━━━\u001b[0m\u001b[37m\u001b[0m \u001b[1m1s\u001b[0m 46ms/step - accuracy: 0.6084 - loss: 1.2800 - val_accuracy: 0.5729 - val_loss: 1.3602\n",
            "Epoch 18/100\n",
            "\u001b[1m25/25\u001b[0m \u001b[32m━━━━━━━━━━━━━━━━━━━━\u001b[0m\u001b[37m\u001b[0m \u001b[1m1s\u001b[0m 42ms/step - accuracy: 0.6206 - loss: 1.2519 - val_accuracy: 0.6354 - val_loss: 1.3523\n",
            "Epoch 19/100\n",
            "\u001b[1m25/25\u001b[0m \u001b[32m━━━━━━━━━━━━━━━━━━━━\u001b[0m\u001b[37m\u001b[0m \u001b[1m1s\u001b[0m 43ms/step - accuracy: 0.6283 - loss: 1.2042 - val_accuracy: 0.6146 - val_loss: 1.3262\n",
            "Epoch 20/100\n",
            "\u001b[1m25/25\u001b[0m \u001b[32m━━━━━━━━━━━━━━━━━━━━\u001b[0m\u001b[37m\u001b[0m \u001b[1m1s\u001b[0m 43ms/step - accuracy: 0.6497 - loss: 1.2120 - val_accuracy: 0.6146 - val_loss: 1.3133\n",
            "Epoch 21/100\n",
            "\u001b[1m25/25\u001b[0m \u001b[32m━━━━━━━━━━━━━━━━━━━━\u001b[0m\u001b[37m\u001b[0m \u001b[1m1s\u001b[0m 42ms/step - accuracy: 0.6491 - loss: 1.1720 - val_accuracy: 0.6458 - val_loss: 1.3023\n",
            "Epoch 22/100\n",
            "\u001b[1m25/25\u001b[0m \u001b[32m━━━━━━━━━━━━━━━━━━━━\u001b[0m\u001b[37m\u001b[0m \u001b[1m1s\u001b[0m 43ms/step - accuracy: 0.6319 - loss: 1.2047 - val_accuracy: 0.6458 - val_loss: 1.2867\n",
            "Epoch 23/100\n",
            "\u001b[1m25/25\u001b[0m \u001b[32m━━━━━━━━━━━━━━━━━━━━\u001b[0m\u001b[37m\u001b[0m \u001b[1m1s\u001b[0m 42ms/step - accuracy: 0.6647 - loss: 1.1036 - val_accuracy: 0.6354 - val_loss: 1.2845\n",
            "Epoch 24/100\n",
            "\u001b[1m25/25\u001b[0m \u001b[32m━━━━━━━━━━━━━━━━━━━━\u001b[0m\u001b[37m\u001b[0m \u001b[1m1s\u001b[0m 42ms/step - accuracy: 0.7087 - loss: 1.0717 - val_accuracy: 0.6354 - val_loss: 1.2616\n",
            "Epoch 25/100\n",
            "\u001b[1m25/25\u001b[0m \u001b[32m━━━━━━━━━━━━━━━━━━━━\u001b[0m\u001b[37m\u001b[0m \u001b[1m1s\u001b[0m 42ms/step - accuracy: 0.6658 - loss: 1.0975 - val_accuracy: 0.6354 - val_loss: 1.2582\n",
            "Epoch 26/100\n",
            "\u001b[1m25/25\u001b[0m \u001b[32m━━━━━━━━━━━━━━━━━━━━\u001b[0m\u001b[37m\u001b[0m \u001b[1m1s\u001b[0m 47ms/step - accuracy: 0.6690 - loss: 1.0939 - val_accuracy: 0.6562 - val_loss: 1.2418\n",
            "Epoch 27/100\n",
            "\u001b[1m25/25\u001b[0m \u001b[32m━━━━━━━━━━━━━━━━━━━━\u001b[0m\u001b[37m\u001b[0m \u001b[1m1s\u001b[0m 52ms/step - accuracy: 0.6884 - loss: 1.0413 - val_accuracy: 0.6458 - val_loss: 1.2305\n",
            "Epoch 28/100\n",
            "\u001b[1m25/25\u001b[0m \u001b[32m━━━━━━━━━━━━━━━━━━━━\u001b[0m\u001b[37m\u001b[0m \u001b[1m1s\u001b[0m 52ms/step - accuracy: 0.6711 - loss: 1.0465 - val_accuracy: 0.6562 - val_loss: 1.2291\n",
            "Epoch 29/100\n",
            "\u001b[1m25/25\u001b[0m \u001b[32m━━━━━━━━━━━━━━━━━━━━\u001b[0m\u001b[37m\u001b[0m \u001b[1m1s\u001b[0m 43ms/step - accuracy: 0.6859 - loss: 1.0422 - val_accuracy: 0.6458 - val_loss: 1.2110\n",
            "Epoch 30/100\n",
            "\u001b[1m25/25\u001b[0m \u001b[32m━━━━━━━━━━━━━━━━━━━━\u001b[0m\u001b[37m\u001b[0m \u001b[1m1s\u001b[0m 43ms/step - accuracy: 0.7185 - loss: 0.9763 - val_accuracy: 0.6667 - val_loss: 1.2039\n",
            "Epoch 31/100\n",
            "\u001b[1m25/25\u001b[0m \u001b[32m━━━━━━━━━━━━━━━━━━━━\u001b[0m\u001b[37m\u001b[0m \u001b[1m1s\u001b[0m 42ms/step - accuracy: 0.7217 - loss: 0.9529 - val_accuracy: 0.6667 - val_loss: 1.1923\n",
            "Epoch 32/100\n",
            "\u001b[1m25/25\u001b[0m \u001b[32m━━━━━━━━━━━━━━━━━━━━\u001b[0m\u001b[37m\u001b[0m \u001b[1m1s\u001b[0m 44ms/step - accuracy: 0.7548 - loss: 0.9020 - val_accuracy: 0.6771 - val_loss: 1.1920\n",
            "Epoch 33/100\n",
            "\u001b[1m25/25\u001b[0m \u001b[32m━━━━━━━━━━━━━━━━━━━━\u001b[0m\u001b[37m\u001b[0m \u001b[1m1s\u001b[0m 44ms/step - accuracy: 0.7585 - loss: 0.9001 - val_accuracy: 0.6979 - val_loss: 1.1829\n",
            "Epoch 34/100\n",
            "\u001b[1m25/25\u001b[0m \u001b[32m━━━━━━━━━━━━━━━━━━━━\u001b[0m\u001b[37m\u001b[0m \u001b[1m1s\u001b[0m 44ms/step - accuracy: 0.7464 - loss: 0.9339 - val_accuracy: 0.7083 - val_loss: 1.1780\n",
            "Epoch 35/100\n",
            "\u001b[1m25/25\u001b[0m \u001b[32m━━━━━━━━━━━━━━━━━━━━\u001b[0m\u001b[37m\u001b[0m \u001b[1m1s\u001b[0m 40ms/step - accuracy: 0.7278 - loss: 0.9192 - val_accuracy: 0.7188 - val_loss: 1.1784\n",
            "Epoch 36/100\n",
            "\u001b[1m25/25\u001b[0m \u001b[32m━━━━━━━━━━━━━━━━━━━━\u001b[0m\u001b[37m\u001b[0m \u001b[1m1s\u001b[0m 45ms/step - accuracy: 0.7533 - loss: 0.8802 - val_accuracy: 0.7083 - val_loss: 1.1539\n",
            "Epoch 37/100\n",
            "\u001b[1m25/25\u001b[0m \u001b[32m━━━━━━━━━━━━━━━━━━━━\u001b[0m\u001b[37m\u001b[0m \u001b[1m1s\u001b[0m 49ms/step - accuracy: 0.7716 - loss: 0.8667 - val_accuracy: 0.6979 - val_loss: 1.1528\n",
            "Epoch 38/100\n",
            "\u001b[1m25/25\u001b[0m \u001b[32m━━━━━━━━━━━━━━━━━━━━\u001b[0m\u001b[37m\u001b[0m \u001b[1m1s\u001b[0m 46ms/step - accuracy: 0.7932 - loss: 0.8185 - val_accuracy: 0.7396 - val_loss: 1.1674\n",
            "Epoch 39/100\n",
            "\u001b[1m25/25\u001b[0m \u001b[32m━━━━━━━━━━━━━━━━━━━━\u001b[0m\u001b[37m\u001b[0m \u001b[1m1s\u001b[0m 43ms/step - accuracy: 0.7502 - loss: 0.8561 - val_accuracy: 0.7188 - val_loss: 1.1537\n",
            "Epoch 40/100\n",
            "\u001b[1m25/25\u001b[0m \u001b[32m━━━━━━━━━━━━━━━━━━━━\u001b[0m\u001b[37m\u001b[0m \u001b[1m1s\u001b[0m 44ms/step - accuracy: 0.7506 - loss: 0.8559 - val_accuracy: 0.7500 - val_loss: 1.1369\n",
            "Epoch 41/100\n",
            "\u001b[1m25/25\u001b[0m \u001b[32m━━━━━━━━━━━━━━━━━━━━\u001b[0m\u001b[37m\u001b[0m \u001b[1m1s\u001b[0m 43ms/step - accuracy: 0.7818 - loss: 0.8106 - val_accuracy: 0.7500 - val_loss: 1.1284\n",
            "Epoch 42/100\n",
            "\u001b[1m25/25\u001b[0m \u001b[32m━━━━━━━━━━━━━━━━━━━━\u001b[0m\u001b[37m\u001b[0m \u001b[1m1s\u001b[0m 43ms/step - accuracy: 0.7890 - loss: 0.8095 - val_accuracy: 0.7396 - val_loss: 1.1239\n",
            "Epoch 43/100\n",
            "\u001b[1m25/25\u001b[0m \u001b[32m━━━━━━━━━━━━━━━━━━━━\u001b[0m\u001b[37m\u001b[0m \u001b[1m1s\u001b[0m 45ms/step - accuracy: 0.8064 - loss: 0.7702 - val_accuracy: 0.7500 - val_loss: 1.1181\n",
            "Epoch 44/100\n",
            "\u001b[1m25/25\u001b[0m \u001b[32m━━━━━━━━━━━━━━━━━━━━\u001b[0m\u001b[37m\u001b[0m \u001b[1m1s\u001b[0m 39ms/step - accuracy: 0.8246 - loss: 0.7319 - val_accuracy: 0.7500 - val_loss: 1.1231\n",
            "Epoch 45/100\n",
            "\u001b[1m25/25\u001b[0m \u001b[32m━━━━━━━━━━━━━━━━━━━━\u001b[0m\u001b[37m\u001b[0m \u001b[1m1s\u001b[0m 39ms/step - accuracy: 0.8221 - loss: 0.7299 - val_accuracy: 0.7500 - val_loss: 1.1278\n",
            "Epoch 46/100\n",
            "\u001b[1m25/25\u001b[0m \u001b[32m━━━━━━━━━━━━━━━━━━━━\u001b[0m\u001b[37m\u001b[0m \u001b[1m1s\u001b[0m 43ms/step - accuracy: 0.7965 - loss: 0.7708 - val_accuracy: 0.7500 - val_loss: 1.1042\n",
            "Epoch 47/100\n",
            "\u001b[1m25/25\u001b[0m \u001b[32m━━━━━━━━━━━━━━━━━━━━\u001b[0m\u001b[37m\u001b[0m \u001b[1m1s\u001b[0m 47ms/step - accuracy: 0.8201 - loss: 0.6994 - val_accuracy: 0.7604 - val_loss: 1.1021\n",
            "Epoch 48/100\n",
            "\u001b[1m25/25\u001b[0m \u001b[32m━━━━━━━━━━━━━━━━━━━━\u001b[0m\u001b[37m\u001b[0m \u001b[1m1s\u001b[0m 50ms/step - accuracy: 0.8162 - loss: 0.7077 - val_accuracy: 0.7604 - val_loss: 1.0924\n",
            "Epoch 49/100\n",
            "\u001b[1m25/25\u001b[0m \u001b[32m━━━━━━━━━━━━━━━━━━━━\u001b[0m\u001b[37m\u001b[0m \u001b[1m1s\u001b[0m 51ms/step - accuracy: 0.8176 - loss: 0.7212 - val_accuracy: 0.7604 - val_loss: 1.0892\n",
            "Epoch 50/100\n",
            "\u001b[1m25/25\u001b[0m \u001b[32m━━━━━━━━━━━━━━━━━━━━\u001b[0m\u001b[37m\u001b[0m \u001b[1m2s\u001b[0m 42ms/step - accuracy: 0.8520 - loss: 0.6274 - val_accuracy: 0.7604 - val_loss: 1.0867\n",
            "Epoch 51/100\n",
            "\u001b[1m25/25\u001b[0m \u001b[32m━━━━━━━━━━━━━━━━━━━━\u001b[0m\u001b[37m\u001b[0m \u001b[1m1s\u001b[0m 41ms/step - accuracy: 0.8293 - loss: 0.6841 - val_accuracy: 0.7500 - val_loss: 1.0938\n",
            "Epoch 52/100\n",
            "\u001b[1m25/25\u001b[0m \u001b[32m━━━━━━━━━━━━━━━━━━━━\u001b[0m\u001b[37m\u001b[0m \u001b[1m1s\u001b[0m 45ms/step - accuracy: 0.8646 - loss: 0.6434 - val_accuracy: 0.7708 - val_loss: 1.0854\n",
            "Epoch 53/100\n",
            "\u001b[1m25/25\u001b[0m \u001b[32m━━━━━━━━━━━━━━━━━━━━\u001b[0m\u001b[37m\u001b[0m \u001b[1m1s\u001b[0m 38ms/step - accuracy: 0.8634 - loss: 0.6397 - val_accuracy: 0.7604 - val_loss: 1.0906\n",
            "Epoch 54/100\n",
            "\u001b[1m25/25\u001b[0m \u001b[32m━━━━━━━━━━━━━━━━━━━━\u001b[0m\u001b[37m\u001b[0m \u001b[1m1s\u001b[0m 38ms/step - accuracy: 0.8292 - loss: 0.6929 - val_accuracy: 0.7708 - val_loss: 1.0936\n",
            "Epoch 55/100\n",
            "\u001b[1m25/25\u001b[0m \u001b[32m━━━━━━━━━━━━━━━━━━━━\u001b[0m\u001b[37m\u001b[0m \u001b[1m2s\u001b[0m 55ms/step - accuracy: 0.8553 - loss: 0.6087 - val_accuracy: 0.7708 - val_loss: 1.0839\n",
            "Epoch 56/100\n",
            "\u001b[1m25/25\u001b[0m \u001b[32m━━━━━━━━━━━━━━━━━━━━\u001b[0m\u001b[37m\u001b[0m \u001b[1m1s\u001b[0m 49ms/step - accuracy: 0.8448 - loss: 0.5881 - val_accuracy: 0.7604 - val_loss: 1.0826\n",
            "Epoch 57/100\n",
            "\u001b[1m25/25\u001b[0m \u001b[32m━━━━━━━━━━━━━━━━━━━━\u001b[0m\u001b[37m\u001b[0m \u001b[1m1s\u001b[0m 49ms/step - accuracy: 0.8664 - loss: 0.5854 - val_accuracy: 0.7708 - val_loss: 1.0803\n",
            "Epoch 58/100\n",
            "\u001b[1m25/25\u001b[0m \u001b[32m━━━━━━━━━━━━━━━━━━━━\u001b[0m\u001b[37m\u001b[0m \u001b[1m1s\u001b[0m 45ms/step - accuracy: 0.8881 - loss: 0.5738 - val_accuracy: 0.7604 - val_loss: 1.0849\n",
            "Epoch 59/100\n",
            "\u001b[1m25/25\u001b[0m \u001b[32m━━━━━━━━━━━━━━━━━━━━\u001b[0m\u001b[37m\u001b[0m \u001b[1m1s\u001b[0m 45ms/step - accuracy: 0.8797 - loss: 0.5766 - val_accuracy: 0.7708 - val_loss: 1.0726\n",
            "Epoch 60/100\n",
            "\u001b[1m25/25\u001b[0m \u001b[32m━━━━━━━━━━━━━━━━━━━━\u001b[0m\u001b[37m\u001b[0m \u001b[1m1s\u001b[0m 43ms/step - accuracy: 0.8755 - loss: 0.5591 - val_accuracy: 0.7708 - val_loss: 1.0713\n",
            "Epoch 61/100\n",
            "\u001b[1m25/25\u001b[0m \u001b[32m━━━━━━━━━━━━━━━━━━━━\u001b[0m\u001b[37m\u001b[0m \u001b[1m1s\u001b[0m 42ms/step - accuracy: 0.8920 - loss: 0.5396 - val_accuracy: 0.7708 - val_loss: 1.0701\n",
            "Epoch 62/100\n",
            "\u001b[1m25/25\u001b[0m \u001b[32m━━━━━━━━━━━━━━━━━━━━\u001b[0m\u001b[37m\u001b[0m \u001b[1m1s\u001b[0m 40ms/step - accuracy: 0.8838 - loss: 0.5405 - val_accuracy: 0.7708 - val_loss: 1.0764\n",
            "Epoch 63/100\n",
            "\u001b[1m25/25\u001b[0m \u001b[32m━━━━━━━━━━━━━━━━━━━━\u001b[0m\u001b[37m\u001b[0m \u001b[1m1s\u001b[0m 43ms/step - accuracy: 0.8841 - loss: 0.5686 - val_accuracy: 0.7708 - val_loss: 1.0645\n",
            "Epoch 64/100\n",
            "\u001b[1m25/25\u001b[0m \u001b[32m━━━━━━━━━━━━━━━━━━━━\u001b[0m\u001b[37m\u001b[0m \u001b[1m1s\u001b[0m 40ms/step - accuracy: 0.8803 - loss: 0.5192 - val_accuracy: 0.7708 - val_loss: 1.0723\n",
            "Epoch 65/100\n",
            "\u001b[1m25/25\u001b[0m \u001b[32m━━━━━━━━━━━━━━━━━━━━\u001b[0m\u001b[37m\u001b[0m \u001b[1m1s\u001b[0m 39ms/step - accuracy: 0.8780 - loss: 0.5334 - val_accuracy: 0.7604 - val_loss: 1.0810\n",
            "Epoch 66/100\n",
            "\u001b[1m25/25\u001b[0m \u001b[32m━━━━━━━━━━━━━━━━━━━━\u001b[0m\u001b[37m\u001b[0m \u001b[1m1s\u001b[0m 40ms/step - accuracy: 0.8935 - loss: 0.5084 - val_accuracy: 0.7708 - val_loss: 1.0647\n",
            "Epoch 67/100\n",
            "\u001b[1m25/25\u001b[0m \u001b[32m━━━━━━━━━━━━━━━━━━━━\u001b[0m\u001b[37m\u001b[0m \u001b[1m1s\u001b[0m 43ms/step - accuracy: 0.9207 - loss: 0.4623 - val_accuracy: 0.7708 - val_loss: 1.0626\n",
            "Epoch 68/100\n",
            "\u001b[1m25/25\u001b[0m \u001b[32m━━━━━━━━━━━━━━━━━━━━\u001b[0m\u001b[37m\u001b[0m \u001b[1m1s\u001b[0m 45ms/step - accuracy: 0.9051 - loss: 0.4815 - val_accuracy: 0.7708 - val_loss: 1.0644\n",
            "Epoch 69/100\n",
            "\u001b[1m25/25\u001b[0m \u001b[32m━━━━━━━━━━━━━━━━━━━━\u001b[0m\u001b[37m\u001b[0m \u001b[1m1s\u001b[0m 49ms/step - accuracy: 0.8933 - loss: 0.4849 - val_accuracy: 0.7708 - val_loss: 1.0570\n",
            "Epoch 70/100\n",
            "\u001b[1m25/25\u001b[0m \u001b[32m━━━━━━━━━━━━━━━━━━━━\u001b[0m\u001b[37m\u001b[0m \u001b[1m1s\u001b[0m 46ms/step - accuracy: 0.9127 - loss: 0.4587 - val_accuracy: 0.7708 - val_loss: 1.0591\n",
            "Epoch 71/100\n",
            "\u001b[1m25/25\u001b[0m \u001b[32m━━━━━━━━━━━━━━━━━━━━\u001b[0m\u001b[37m\u001b[0m \u001b[1m1s\u001b[0m 40ms/step - accuracy: 0.9157 - loss: 0.4566 - val_accuracy: 0.7708 - val_loss: 1.0641\n",
            "Epoch 72/100\n",
            "\u001b[1m25/25\u001b[0m \u001b[32m━━━━━━━━━━━━━━━━━━━━\u001b[0m\u001b[37m\u001b[0m \u001b[1m1s\u001b[0m 43ms/step - accuracy: 0.9054 - loss: 0.4769 - val_accuracy: 0.7708 - val_loss: 1.0470\n",
            "Epoch 73/100\n",
            "\u001b[1m25/25\u001b[0m \u001b[32m━━━━━━━━━━━━━━━━━━━━\u001b[0m\u001b[37m\u001b[0m \u001b[1m1s\u001b[0m 39ms/step - accuracy: 0.9157 - loss: 0.4510 - val_accuracy: 0.7708 - val_loss: 1.0535\n",
            "Epoch 74/100\n",
            "\u001b[1m25/25\u001b[0m \u001b[32m━━━━━━━━━━━━━━━━━━━━\u001b[0m\u001b[37m\u001b[0m \u001b[1m1s\u001b[0m 41ms/step - accuracy: 0.9147 - loss: 0.4495 - val_accuracy: 0.7708 - val_loss: 1.0591\n",
            "Epoch 75/100\n",
            "\u001b[1m25/25\u001b[0m \u001b[32m━━━━━━━━━━━━━━━━━━━━\u001b[0m\u001b[37m\u001b[0m \u001b[1m1s\u001b[0m 39ms/step - accuracy: 0.9142 - loss: 0.4427 - val_accuracy: 0.7708 - val_loss: 1.0585\n",
            "Epoch 76/100\n",
            "\u001b[1m25/25\u001b[0m \u001b[32m━━━━━━━━━━━━━━━━━━━━\u001b[0m\u001b[37m\u001b[0m \u001b[1m1s\u001b[0m 40ms/step - accuracy: 0.9042 - loss: 0.4407 - val_accuracy: 0.7708 - val_loss: 1.0585\n",
            "Epoch 77/100\n",
            "\u001b[1m25/25\u001b[0m \u001b[32m━━━━━━━━━━━━━━━━━━━━\u001b[0m\u001b[37m\u001b[0m \u001b[1m1s\u001b[0m 39ms/step - accuracy: 0.9298 - loss: 0.4255 - val_accuracy: 0.7708 - val_loss: 1.0475\n",
            "Epoch 78/100\n",
            "\u001b[1m25/25\u001b[0m \u001b[32m━━━━━━━━━━━━━━━━━━━━\u001b[0m\u001b[37m\u001b[0m \u001b[1m1s\u001b[0m 43ms/step - accuracy: 0.9206 - loss: 0.4159 - val_accuracy: 0.7708 - val_loss: 1.0392\n",
            "Epoch 79/100\n",
            "\u001b[1m25/25\u001b[0m \u001b[32m━━━━━━━━━━━━━━━━━━━━\u001b[0m\u001b[37m\u001b[0m \u001b[1m1s\u001b[0m 41ms/step - accuracy: 0.9469 - loss: 0.3801 - val_accuracy: 0.7708 - val_loss: 1.0404\n",
            "Epoch 80/100\n",
            "\u001b[1m25/25\u001b[0m \u001b[32m━━━━━━━━━━━━━━━━━━━━\u001b[0m\u001b[37m\u001b[0m \u001b[1m1s\u001b[0m 45ms/step - accuracy: 0.9282 - loss: 0.3927 - val_accuracy: 0.7708 - val_loss: 1.0403\n",
            "Epoch 81/100\n",
            "\u001b[1m25/25\u001b[0m \u001b[32m━━━━━━━━━━━━━━━━━━━━\u001b[0m\u001b[37m\u001b[0m \u001b[1m1s\u001b[0m 48ms/step - accuracy: 0.9227 - loss: 0.3882 - val_accuracy: 0.7708 - val_loss: 1.0426\n",
            "Epoch 82/100\n",
            "\u001b[1m25/25\u001b[0m \u001b[32m━━━━━━━━━━━━━━━━━━━━\u001b[0m\u001b[37m\u001b[0m \u001b[1m1s\u001b[0m 41ms/step - accuracy: 0.9084 - loss: 0.4038 - val_accuracy: 0.7708 - val_loss: 1.0554\n",
            "Epoch 83/100\n",
            "\u001b[1m25/25\u001b[0m \u001b[32m━━━━━━━━━━━━━━━━━━━━\u001b[0m\u001b[37m\u001b[0m \u001b[1m1s\u001b[0m 39ms/step - accuracy: 0.9168 - loss: 0.4028 - val_accuracy: 0.7708 - val_loss: 1.0585\n",
            "Epoch 84/100\n",
            "\u001b[1m25/25\u001b[0m \u001b[32m━━━━━━━━━━━━━━━━━━━━\u001b[0m\u001b[37m\u001b[0m \u001b[1m1s\u001b[0m 41ms/step - accuracy: 0.9340 - loss: 0.3765 - val_accuracy: 0.7708 - val_loss: 1.0605\n",
            "Epoch 85/100\n",
            "\u001b[1m25/25\u001b[0m \u001b[32m━━━━━━━━━━━━━━━━━━━━\u001b[0m\u001b[37m\u001b[0m \u001b[1m1s\u001b[0m 39ms/step - accuracy: 0.9482 - loss: 0.3514 - val_accuracy: 0.7708 - val_loss: 1.0533\n",
            "Epoch 86/100\n",
            "\u001b[1m25/25\u001b[0m \u001b[32m━━━━━━━━━━━━━━━━━━━━\u001b[0m\u001b[37m\u001b[0m \u001b[1m1s\u001b[0m 40ms/step - accuracy: 0.9539 - loss: 0.3419 - val_accuracy: 0.7708 - val_loss: 1.0579\n",
            "Epoch 87/100\n",
            "\u001b[1m25/25\u001b[0m \u001b[32m━━━━━━━━━━━━━━━━━━━━\u001b[0m\u001b[37m\u001b[0m \u001b[1m1s\u001b[0m 40ms/step - accuracy: 0.9383 - loss: 0.3750 - val_accuracy: 0.7708 - val_loss: 1.0532\n",
            "Epoch 88/100\n",
            "\u001b[1m25/25\u001b[0m \u001b[32m━━━━━━━━━━━━━━━━━━━━\u001b[0m\u001b[37m\u001b[0m \u001b[1m1s\u001b[0m 40ms/step - accuracy: 0.9353 - loss: 0.3460 - val_accuracy: 0.7708 - val_loss: 1.0675\n",
            "\u001b[1m4/4\u001b[0m \u001b[32m━━━━━━━━━━━━━━━━━━━━\u001b[0m\u001b[37m\u001b[0m \u001b[1m6s\u001b[0m 2s/step - accuracy: 0.8130 - loss: 0.7691\n",
            "Test Accuracy: 0.80\n"
          ]
        }
      ]
    },
    {
      "cell_type": "code",
      "source": [
        "def evaluate_model(dataset, model):\n",
        "    y_true = []\n",
        "    y_pred = []\n",
        "\n",
        "    for images, labels in dataset:\n",
        "        preds = model.predict(images)\n",
        "        pred_labels = np.argmax(preds, axis=-1)\n",
        "\n",
        "        y_true.extend(labels.numpy())\n",
        "        y_pred.extend(pred_labels)\n",
        "\n",
        "\n",
        "    y_true = np.array(y_true)\n",
        "    y_pred = np.array(y_pred)\n",
        "\n",
        "    accuracy = accuracy_score(y_true, y_pred)\n",
        "    precision = precision_score(y_true, y_pred,average='weighted')\n",
        "    recall = recall_score(y_true, y_pred,average='weighted')\n",
        "    f1 = f1_score(y_true, y_pred,average='weighted')\n",
        "    cm = confusion_matrix(y_true, y_pred)\n",
        "\n",
        "    return accuracy, precision, recall, f1, cm"
      ],
      "metadata": {
        "id": "ZqS3tW6t0akL"
      },
      "execution_count": null,
      "outputs": []
    },
    {
      "cell_type": "code",
      "source": [
        "test_acc, test_precision, test_recall, test_f1, cm = evaluate_model(test_data, model)\n",
        "\n",
        "print(f\"Test Accuracy: {test_acc:.4f}\")\n",
        "print(f\"Test Precision: {test_precision:.4f}\")\n",
        "print(f\"Test Recall: {test_recall:.4f}\")\n",
        "print(f\"Test F1-Score: {test_f1:.4f}\")"
      ],
      "metadata": {
        "id": "FEgNPNYs0bub",
        "colab": {
          "base_uri": "https://localhost:8080/"
        },
        "outputId": "a6e82092-3c84-414a-d323-6682de50d1e8"
      },
      "execution_count": null,
      "outputs": [
        {
          "output_type": "stream",
          "name": "stdout",
          "text": [
            "\u001b[1m1/1\u001b[0m \u001b[32m━━━━━━━━━━━━━━━━━━━━\u001b[0m\u001b[37m\u001b[0m \u001b[1m6s\u001b[0m 6s/step\n",
            "\u001b[1m1/1\u001b[0m \u001b[32m━━━━━━━━━━━━━━━━━━━━\u001b[0m\u001b[37m\u001b[0m \u001b[1m0s\u001b[0m 37ms/step\n",
            "\u001b[1m1/1\u001b[0m \u001b[32m━━━━━━━━━━━━━━━━━━━━\u001b[0m\u001b[37m\u001b[0m \u001b[1m0s\u001b[0m 36ms/step\n",
            "\u001b[1m1/1\u001b[0m \u001b[32m━━━━━━━━━━━━━━━━━━━━\u001b[0m\u001b[37m\u001b[0m \u001b[1m6s\u001b[0m 6s/step\n",
            "Test Accuracy: 0.7981\n",
            "Test Precision: 0.8177\n",
            "Test Recall: 0.7981\n",
            "Test F1-Score: 0.7975\n"
          ]
        }
      ]
    },
    {
      "cell_type": "code",
      "source": [
        "plt.figure(figsize=(10, 8))\n",
        "disp = ConfusionMatrixDisplay(confusion_matrix=cm)\n",
        "disp.plot(cmap=plt.cm.Blues)\n",
        "plt.title('Confusion Matrix')\n",
        "plt.show()"
      ],
      "metadata": {
        "id": "N8P1l1kJ0tR0",
        "colab": {
          "base_uri": "https://localhost:8080/",
          "height": 489
        },
        "outputId": "261bd114-7c3b-4072-c8c5-8bf0ad11d520"
      },
      "execution_count": null,
      "outputs": [
        {
          "output_type": "display_data",
          "data": {
            "text/plain": [
              "<Figure size 1000x800 with 0 Axes>"
            ]
          },
          "metadata": {}
        },
        {
          "output_type": "display_data",
          "data": {
            "text/plain": [
              "<Figure size 640x480 with 2 Axes>"
            ],
            "image/png": "[encoded data removed]"
          },
          "metadata": {}
        }
      ]
    }
  ]
}